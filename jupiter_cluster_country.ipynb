{
 "cells": [
  {
   "cell_type": "code",
   "execution_count": 4,
   "metadata": {},
   "outputs": [
    {
     "data": {
      "application/vnd.plotly.v1+json": {
       "config": {
        "plotlyServerURL": "https://plot.ly"
       },
       "data": [
        {
         "marker": {
          "size": 12
         },
         "mode": "markers+text",
         "name": "Score 2",
         "text": [
          "Denmark",
          "Finland",
          "Germany",
          "Iceland",
          "Israel",
          "Norway",
          "Sweden"
         ],
         "textposition": "top center",
         "type": "scatter",
         "x": [
          2,
          2,
          2,
          2,
          2,
          2,
          2
         ],
         "y": {
          "bdata": "mpmZmZmZ2b8SERERERHRvxIREREREcG/AAAAAAAAAAAQERERERHBPxAREREREdE/mpmZmZmZ2T8=",
          "dtype": "f8"
         }
        },
        {
         "marker": {
          "size": 12
         },
         "mode": "markers+text",
         "name": "Score 3",
         "text": [
          "Australia",
          "Austria",
          "Canada",
          "Estonia",
          "Latvia",
          "Liechtenstein",
          "Lithuania",
          "Luxembourg",
          "Monaco",
          "Netherlands",
          "New Zealand",
          "Switzerland",
          "United Kingdom",
          "United States"
         ],
         "textposition": "top center",
         "type": "scatter",
         "x": [
          3,
          3,
          3,
          3,
          3,
          3,
          3,
          3,
          3,
          3,
          3,
          3,
          3,
          3
         ],
         "y": {
          "bdata": "mpmZmZmZ2b+WWqmVWqnVv5IbuZEbudG/HLmRG7mRy78UO7ETO7HDvxh6oRd6obe/IPiBH/iBn78g+IEf+IGfPxh6oRd6obc/FDuxEzuxwz8cuZEbuZHLP5IbuZEbudE/llqplVqp1T+amZmZmZnZPw==",
          "dtype": "f8"
         }
        },
        {
         "marker": {
          "size": 12
         },
         "mode": "markers+text",
         "name": "Score 4",
         "text": [
          "Czech Republic",
          "Singapore",
          "Slovenia"
         ],
         "textposition": "top center",
         "type": "scatter",
         "x": [
          4,
          4,
          4
         ],
         "y": {
          "bdata": "mpmZmZmZ2b8AAAAAAAAAAJqZmZmZmdk/",
          "dtype": "f8"
         }
        },
        {
         "marker": {
          "size": 12
         },
         "mode": "markers+text",
         "name": "Score 5",
         "text": [
          "Afghanistan",
          "Albania",
          "Algeria",
          "Andorra",
          "Belgium",
          "France",
          "Hungary",
          "Russia",
          "Slovakia"
         ],
         "textposition": "top center",
         "type": "scatter",
         "x": [
          5,
          5,
          5,
          5,
          5,
          5,
          5,
          5,
          5
         ],
         "y": {
          "bdata": "mpmZmZmZ2b80MzMzMzPTv5qZmZmZmcm/mJmZmZmZub8AAAAAAAAAAJiZmZmZmbk/nJmZmZmZyT80MzMzMzPTP5qZmZmZmdk/",
          "dtype": "f8"
         }
        },
        {
         "marker": {
          "size": 12
         },
         "mode": "markers+text",
         "name": "Score 6",
         "text": [
          "Argentina",
          "Barbados",
          "Belarus",
          "Bolivia",
          "Brazil",
          "Chile",
          "Colombia",
          "Costa Rica",
          "Croatia",
          "Cyprus",
          "Dominican Republic",
          "Ecuador",
          "El Salvador",
          "Greece",
          "Guatemala",
          "Honduras",
          "Italy",
          "Jamaica",
          "Malta",
          "Mexico",
          "Nicaragua",
          "Panama",
          "Paraguay",
          "Peru",
          "San Marino",
          "Serbia",
          "South Africa",
          "Spain",
          "Trinidad and Tobago",
          "Ukraine",
          "Uruguay"
         ],
         "textposition": "top center",
         "type": "scatter",
         "x": [
          6,
          6,
          6,
          6,
          6,
          6,
          6,
          6,
          6,
          6,
          6,
          6,
          6,
          6,
          6,
          6,
          6,
          6,
          6,
          6,
          6,
          6,
          6,
          6,
          6,
          6,
          6,
          6,
          6,
          6,
          6
         ],
         "y": {
          "bdata": "mpmZmZmZ2b/lF0t+seTXvzCW/GLJL9a/exSuR+F61L/Gkl8s+cXSvxIREREREdG/uR6F61G4zr9PG+i0gU7Lv+UXS36x5Me/exSuR+F6xL8SERERERHBv1Ab6LSBTru/fBSuR+F6tL9QG+i0gU6rv1Ab6LSBTpu/AAAAAAAAAABQG+i0gU6bP1Ab6LSBTqs/fBSuR+F6tD9QG+i0gU67PxAREREREcE/fBSuR+F6xD/kF0t+seTHP1Ab6LSBTss/uB6F61G4zj8SERERERHRP8aSXyz5xdI/fBSuR+F61D8wlvxiyS/WP+YXS36x5Nc/mpmZmZmZ2T8=",
          "dtype": "f8"
         }
        },
        {
         "marker": {
          "size": 12
         },
         "mode": "markers+text",
         "name": "Score 7",
         "text": [
          "Bangladesh",
          "Bulgaria",
          "Côte d'Ivoire",
          "Egypt",
          "Ethiopia",
          "Ghana",
          "India",
          "Kenya",
          "Lebanon",
          "Morocco",
          "Nigeria",
          "Philippines",
          "Poland",
          "Portugal",
          "Romania",
          "Rwanda",
          "Senegal",
          "South Korea",
          "Tanzania",
          "Turkey",
          "Uganda"
         ],
         "textposition": "top center",
         "type": "scatter",
         "x": [
          7,
          7,
          7,
          7,
          7,
          7,
          7,
          7,
          7,
          7,
          7,
          7,
          7,
          7,
          7,
          7,
          7,
          7,
          7,
          7,
          7
         ],
         "y": {
          "bdata": "mpmZmZmZ2b8L16NwPQrXv3sUrkfhetS/7FG4HoXr0b+5HoXrUbjOv5qZmZmZmcm/fBSuR+F6xL+4HoXrUbi+v3wUrkfherS/gBSuR+F6pL8AAAAAAAAAAHgUrkfheqQ/eBSuR+F6tD+4HoXrUbi+P3wUrkfhesQ/mJmZmZmZyT+4HoXrUbjOP+xRuB6F69E/ehSuR+F61D8K16NwPQrXP5qZmZmZmdk/",
          "dtype": "f8"
         }
        },
        {
         "marker": {
          "size": 12
         },
         "mode": "markers+text",
         "name": "Score 8",
         "text": [
          "Bahrain",
          "China",
          "Indonesia",
          "Iran",
          "Japan",
          "Jordan",
          "Kuwait",
          "Malaysia",
          "Myanmar",
          "Oman",
          "Qatar",
          "Saudi Arabia",
          "Thailand",
          "Uzbekistan",
          "Vietnam"
         ],
         "textposition": "top center",
         "type": "scatter",
         "x": [
          8,
          8,
          8,
          8,
          8,
          8,
          8,
          8,
          8,
          8,
          8,
          8,
          8,
          8,
          8
         ],
         "y": {
          "bdata": "mpmZmZmZ2b8WX/EVX/HVv5IkSZIkSdK/HtRBHdRBzb8WX/EVX/HFvxzUQR3UQb2/INRBHdRBrb8AAAAAAAAAACDUQR3UQa0/INRBHdRBvT8YX/EVX/HFPyDUQR3UQc0/kiRJkiRJ0j8WX/EVX/HVP5qZmZmZmdk/",
          "dtype": "f8"
         }
        }
       ],
       "layout": {
        "height": 1000,
        "margin": {
         "b": 80,
         "l": 80,
         "r": 80,
         "t": 80
        },
        "template": {
         "data": {
          "bar": [
           {
            "error_x": {
             "color": "#2a3f5f"
            },
            "error_y": {
             "color": "#2a3f5f"
            },
            "marker": {
             "line": {
              "color": "#E5ECF6",
              "width": 0.5
             },
             "pattern": {
              "fillmode": "overlay",
              "size": 10,
              "solidity": 0.2
             }
            },
            "type": "bar"
           }
          ],
          "barpolar": [
           {
            "marker": {
             "line": {
              "color": "#E5ECF6",
              "width": 0.5
             },
             "pattern": {
              "fillmode": "overlay",
              "size": 10,
              "solidity": 0.2
             }
            },
            "type": "barpolar"
           }
          ],
          "carpet": [
           {
            "aaxis": {
             "endlinecolor": "#2a3f5f",
             "gridcolor": "white",
             "linecolor": "white",
             "minorgridcolor": "white",
             "startlinecolor": "#2a3f5f"
            },
            "baxis": {
             "endlinecolor": "#2a3f5f",
             "gridcolor": "white",
             "linecolor": "white",
             "minorgridcolor": "white",
             "startlinecolor": "#2a3f5f"
            },
            "type": "carpet"
           }
          ],
          "choropleth": [
           {
            "colorbar": {
             "outlinewidth": 0,
             "ticks": ""
            },
            "type": "choropleth"
           }
          ],
          "contour": [
           {
            "colorbar": {
             "outlinewidth": 0,
             "ticks": ""
            },
            "colorscale": [
             [
              0,
              "#0d0887"
             ],
             [
              0.1111111111111111,
              "#46039f"
             ],
             [
              0.2222222222222222,
              "#7201a8"
             ],
             [
              0.3333333333333333,
              "#9c179e"
             ],
             [
              0.4444444444444444,
              "#bd3786"
             ],
             [
              0.5555555555555556,
              "#d8576b"
             ],
             [
              0.6666666666666666,
              "#ed7953"
             ],
             [
              0.7777777777777778,
              "#fb9f3a"
             ],
             [
              0.8888888888888888,
              "#fdca26"
             ],
             [
              1,
              "#f0f921"
             ]
            ],
            "type": "contour"
           }
          ],
          "contourcarpet": [
           {
            "colorbar": {
             "outlinewidth": 0,
             "ticks": ""
            },
            "type": "contourcarpet"
           }
          ],
          "heatmap": [
           {
            "colorbar": {
             "outlinewidth": 0,
             "ticks": ""
            },
            "colorscale": [
             [
              0,
              "#0d0887"
             ],
             [
              0.1111111111111111,
              "#46039f"
             ],
             [
              0.2222222222222222,
              "#7201a8"
             ],
             [
              0.3333333333333333,
              "#9c179e"
             ],
             [
              0.4444444444444444,
              "#bd3786"
             ],
             [
              0.5555555555555556,
              "#d8576b"
             ],
             [
              0.6666666666666666,
              "#ed7953"
             ],
             [
              0.7777777777777778,
              "#fb9f3a"
             ],
             [
              0.8888888888888888,
              "#fdca26"
             ],
             [
              1,
              "#f0f921"
             ]
            ],
            "type": "heatmap"
           }
          ],
          "histogram": [
           {
            "marker": {
             "pattern": {
              "fillmode": "overlay",
              "size": 10,
              "solidity": 0.2
             }
            },
            "type": "histogram"
           }
          ],
          "histogram2d": [
           {
            "colorbar": {
             "outlinewidth": 0,
             "ticks": ""
            },
            "colorscale": [
             [
              0,
              "#0d0887"
             ],
             [
              0.1111111111111111,
              "#46039f"
             ],
             [
              0.2222222222222222,
              "#7201a8"
             ],
             [
              0.3333333333333333,
              "#9c179e"
             ],
             [
              0.4444444444444444,
              "#bd3786"
             ],
             [
              0.5555555555555556,
              "#d8576b"
             ],
             [
              0.6666666666666666,
              "#ed7953"
             ],
             [
              0.7777777777777778,
              "#fb9f3a"
             ],
             [
              0.8888888888888888,
              "#fdca26"
             ],
             [
              1,
              "#f0f921"
             ]
            ],
            "type": "histogram2d"
           }
          ],
          "histogram2dcontour": [
           {
            "colorbar": {
             "outlinewidth": 0,
             "ticks": ""
            },
            "colorscale": [
             [
              0,
              "#0d0887"
             ],
             [
              0.1111111111111111,
              "#46039f"
             ],
             [
              0.2222222222222222,
              "#7201a8"
             ],
             [
              0.3333333333333333,
              "#9c179e"
             ],
             [
              0.4444444444444444,
              "#bd3786"
             ],
             [
              0.5555555555555556,
              "#d8576b"
             ],
             [
              0.6666666666666666,
              "#ed7953"
             ],
             [
              0.7777777777777778,
              "#fb9f3a"
             ],
             [
              0.8888888888888888,
              "#fdca26"
             ],
             [
              1,
              "#f0f921"
             ]
            ],
            "type": "histogram2dcontour"
           }
          ],
          "mesh3d": [
           {
            "colorbar": {
             "outlinewidth": 0,
             "ticks": ""
            },
            "type": "mesh3d"
           }
          ],
          "parcoords": [
           {
            "line": {
             "colorbar": {
              "outlinewidth": 0,
              "ticks": ""
             }
            },
            "type": "parcoords"
           }
          ],
          "pie": [
           {
            "automargin": true,
            "type": "pie"
           }
          ],
          "scatter": [
           {
            "fillpattern": {
             "fillmode": "overlay",
             "size": 10,
             "solidity": 0.2
            },
            "type": "scatter"
           }
          ],
          "scatter3d": [
           {
            "line": {
             "colorbar": {
              "outlinewidth": 0,
              "ticks": ""
             }
            },
            "marker": {
             "colorbar": {
              "outlinewidth": 0,
              "ticks": ""
             }
            },
            "type": "scatter3d"
           }
          ],
          "scattercarpet": [
           {
            "marker": {
             "colorbar": {
              "outlinewidth": 0,
              "ticks": ""
             }
            },
            "type": "scattercarpet"
           }
          ],
          "scattergeo": [
           {
            "marker": {
             "colorbar": {
              "outlinewidth": 0,
              "ticks": ""
             }
            },
            "type": "scattergeo"
           }
          ],
          "scattergl": [
           {
            "marker": {
             "colorbar": {
              "outlinewidth": 0,
              "ticks": ""
             }
            },
            "type": "scattergl"
           }
          ],
          "scattermap": [
           {
            "marker": {
             "colorbar": {
              "outlinewidth": 0,
              "ticks": ""
             }
            },
            "type": "scattermap"
           }
          ],
          "scattermapbox": [
           {
            "marker": {
             "colorbar": {
              "outlinewidth": 0,
              "ticks": ""
             }
            },
            "type": "scattermapbox"
           }
          ],
          "scatterpolar": [
           {
            "marker": {
             "colorbar": {
              "outlinewidth": 0,
              "ticks": ""
             }
            },
            "type": "scatterpolar"
           }
          ],
          "scatterpolargl": [
           {
            "marker": {
             "colorbar": {
              "outlinewidth": 0,
              "ticks": ""
             }
            },
            "type": "scatterpolargl"
           }
          ],
          "scatterternary": [
           {
            "marker": {
             "colorbar": {
              "outlinewidth": 0,
              "ticks": ""
             }
            },
            "type": "scatterternary"
           }
          ],
          "surface": [
           {
            "colorbar": {
             "outlinewidth": 0,
             "ticks": ""
            },
            "colorscale": [
             [
              0,
              "#0d0887"
             ],
             [
              0.1111111111111111,
              "#46039f"
             ],
             [
              0.2222222222222222,
              "#7201a8"
             ],
             [
              0.3333333333333333,
              "#9c179e"
             ],
             [
              0.4444444444444444,
              "#bd3786"
             ],
             [
              0.5555555555555556,
              "#d8576b"
             ],
             [
              0.6666666666666666,
              "#ed7953"
             ],
             [
              0.7777777777777778,
              "#fb9f3a"
             ],
             [
              0.8888888888888888,
              "#fdca26"
             ],
             [
              1,
              "#f0f921"
             ]
            ],
            "type": "surface"
           }
          ],
          "table": [
           {
            "cells": {
             "fill": {
              "color": "#EBF0F8"
             },
             "line": {
              "color": "white"
             }
            },
            "header": {
             "fill": {
              "color": "#C8D4E3"
             },
             "line": {
              "color": "white"
             }
            },
            "type": "table"
           }
          ]
         },
         "layout": {
          "annotationdefaults": {
           "arrowcolor": "#2a3f5f",
           "arrowhead": 0,
           "arrowwidth": 1
          },
          "autotypenumbers": "strict",
          "coloraxis": {
           "colorbar": {
            "outlinewidth": 0,
            "ticks": ""
           }
          },
          "colorscale": {
           "diverging": [
            [
             0,
             "#8e0152"
            ],
            [
             0.1,
             "#c51b7d"
            ],
            [
             0.2,
             "#de77ae"
            ],
            [
             0.3,
             "#f1b6da"
            ],
            [
             0.4,
             "#fde0ef"
            ],
            [
             0.5,
             "#f7f7f7"
            ],
            [
             0.6,
             "#e6f5d0"
            ],
            [
             0.7,
             "#b8e186"
            ],
            [
             0.8,
             "#7fbc41"
            ],
            [
             0.9,
             "#4d9221"
            ],
            [
             1,
             "#276419"
            ]
           ],
           "sequential": [
            [
             0,
             "#0d0887"
            ],
            [
             0.1111111111111111,
             "#46039f"
            ],
            [
             0.2222222222222222,
             "#7201a8"
            ],
            [
             0.3333333333333333,
             "#9c179e"
            ],
            [
             0.4444444444444444,
             "#bd3786"
            ],
            [
             0.5555555555555556,
             "#d8576b"
            ],
            [
             0.6666666666666666,
             "#ed7953"
            ],
            [
             0.7777777777777778,
             "#fb9f3a"
            ],
            [
             0.8888888888888888,
             "#fdca26"
            ],
            [
             1,
             "#f0f921"
            ]
           ],
           "sequentialminus": [
            [
             0,
             "#0d0887"
            ],
            [
             0.1111111111111111,
             "#46039f"
            ],
            [
             0.2222222222222222,
             "#7201a8"
            ],
            [
             0.3333333333333333,
             "#9c179e"
            ],
            [
             0.4444444444444444,
             "#bd3786"
            ],
            [
             0.5555555555555556,
             "#d8576b"
            ],
            [
             0.6666666666666666,
             "#ed7953"
            ],
            [
             0.7777777777777778,
             "#fb9f3a"
            ],
            [
             0.8888888888888888,
             "#fdca26"
            ],
            [
             1,
             "#f0f921"
            ]
           ]
          },
          "colorway": [
           "#636efa",
           "#EF553B",
           "#00cc96",
           "#ab63fa",
           "#FFA15A",
           "#19d3f3",
           "#FF6692",
           "#B6E880",
           "#FF97FF",
           "#FECB52"
          ],
          "font": {
           "color": "#2a3f5f"
          },
          "geo": {
           "bgcolor": "white",
           "lakecolor": "white",
           "landcolor": "#E5ECF6",
           "showlakes": true,
           "showland": true,
           "subunitcolor": "white"
          },
          "hoverlabel": {
           "align": "left"
          },
          "hovermode": "closest",
          "mapbox": {
           "style": "light"
          },
          "paper_bgcolor": "white",
          "plot_bgcolor": "#E5ECF6",
          "polar": {
           "angularaxis": {
            "gridcolor": "white",
            "linecolor": "white",
            "ticks": ""
           },
           "bgcolor": "#E5ECF6",
           "radialaxis": {
            "gridcolor": "white",
            "linecolor": "white",
            "ticks": ""
           }
          },
          "scene": {
           "xaxis": {
            "backgroundcolor": "#E5ECF6",
            "gridcolor": "white",
            "gridwidth": 2,
            "linecolor": "white",
            "showbackground": true,
            "ticks": "",
            "zerolinecolor": "white"
           },
           "yaxis": {
            "backgroundcolor": "#E5ECF6",
            "gridcolor": "white",
            "gridwidth": 2,
            "linecolor": "white",
            "showbackground": true,
            "ticks": "",
            "zerolinecolor": "white"
           },
           "zaxis": {
            "backgroundcolor": "#E5ECF6",
            "gridcolor": "white",
            "gridwidth": 2,
            "linecolor": "white",
            "showbackground": true,
            "ticks": "",
            "zerolinecolor": "white"
           }
          },
          "shapedefaults": {
           "line": {
            "color": "#2a3f5f"
           }
          },
          "ternary": {
           "aaxis": {
            "gridcolor": "white",
            "linecolor": "white",
            "ticks": ""
           },
           "baxis": {
            "gridcolor": "white",
            "linecolor": "white",
            "ticks": ""
           },
           "bgcolor": "#E5ECF6",
           "caxis": {
            "gridcolor": "white",
            "linecolor": "white",
            "ticks": ""
           }
          },
          "title": {
           "x": 0.05
          },
          "xaxis": {
           "automargin": true,
           "gridcolor": "white",
           "linecolor": "white",
           "ticks": "",
           "title": {
            "standoff": 15
           },
           "zerolinecolor": "white",
           "zerolinewidth": 2
          },
          "yaxis": {
           "automargin": true,
           "gridcolor": "white",
           "linecolor": "white",
           "ticks": "",
           "title": {
            "standoff": 15
           },
           "zerolinecolor": "white",
           "zerolinewidth": 2
          }
         }
        },
        "title": {
         "text": "Countries Grouped by Communication Score"
        },
        "width": 1500,
        "xaxis": {
         "range": [
          0.5,
          10.5
         ],
         "tickmode": "array",
         "ticktext": [
          "Extremely Direct / Explicit",
          "Very Direct",
          "Direct",
          "Moderately Direct",
          "Balanced (even mix of directness and nuance)",
          "Moderately Indirect",
          "Indirect",
          "Quite Indirect",
          "Very Indirect / Implicit",
          "Extremely Indirect / Highly Contextual"
         ],
         "tickvals": [
          1,
          2,
          3,
          4,
          5,
          6,
          7,
          8,
          9,
          10
         ],
         "title": {
          "text": "Communication Style"
         }
        },
        "yaxis": {
         "showticklabels": false,
         "title": {
          "text": "Countries"
         }
        }
       }
      }
     },
     "metadata": {},
     "output_type": "display_data"
    }
   ],
   "source": [
    "import pandas as pd\n",
    "import numpy as np\n",
    "import plotly.express as px\n",
    "import plotly.graph_objects as go\n",
    "\n",
    "#Upload data frame of dimensions\n",
    "df_country = pd.read_excel(\"culture_map.xlsx\", sheet_name = \"countries\")\n",
    "df_dimensions = pd.read_excel(\"culture_map.xlsx\", sheet_name = \"dimensions\")\n",
    "\n",
    "#COMMUNICATION\n",
    "# --- 1) LOAD THE SCORE-DESCRIPTION MAPPINGS ---\n",
    "# Create a dictionary like {1: 'Extremely Direct / Explicit', 2: 'Very Direct', ...}\n",
    "score_to_text = dict(zip(df_dimensions[\"Score\"], df_dimensions[\"Communication\"]))\n",
    "\n",
    "# Assuming the Excel file has columns named \"Country\" and \"Communication\"\n",
    "# Group countries by their Communication score\n",
    "scores = sorted(df_country['Communication'].unique())\n",
    "\n",
    "fig = go.Figure()\n",
    "\n",
    "# For clarity, we add jitter on the y-axis so markers in the same cluster don’t overlap.\n",
    "# Here we generate a small range of y-values for each country in a group.\n",
    "for score in scores:\n",
    "    cluster = df_country[df_country['Communication'] == score]\n",
    "    # Create jitter values; the more points, the more spread out they will be.\n",
    "    jitter = np.linspace(-0.4, 0.4, len(cluster))\n",
    "    \n",
    "    fig.add_trace(go.Scatter(\n",
    "        x=[score] * len(cluster),\n",
    "        y=jitter,\n",
    "        mode='markers+text',\n",
    "        marker=dict(size=12),\n",
    "        text=cluster['Country'],      # Display country names on hover (or as labels)\n",
    "        textposition='top center',\n",
    "        name=f\"Score {score}\"\n",
    "    ))\n",
    "\n",
    "# --- 4) CONFIGURE THE X-AXIS TO SHOW TEXT INSTEAD OF NUMBERS ---\n",
    "fig.update_layout(\n",
    "    title=\"Countries Grouped by Communication Score\",\n",
    "    xaxis=dict(\n",
    "        title=\"Communication Style\",\n",
    "        tickmode='array',\n",
    "        # 'tickvals' are the numeric positions\n",
    "        tickvals=list(score_to_text.keys()),  \n",
    "        # 'ticktext' are the labels we want to display\n",
    "        ticktext=list(score_to_text.values()),\n",
    "        # If you want to ensure we see all ticks from 1 to 10, you can do:\n",
    "        range=[0.5, 10.5]  # This centers ticks from 1..10\n",
    "    ),\n",
    "    yaxis=dict(\n",
    "        title=\"Countries\",\n",
    "        showticklabels=False  # Hides y-axis labels, since we only use it for jitter\n",
    "    ),\n",
    "    margin=dict(l=80, r=80, t=80, b=80)\n",
    ")\n",
    "fig.update_layout(\n",
    "    width=1500,    # Increase width\n",
    "    height=1000,    # Increase height\n",
    "    margin=dict(l=80, r=80, t=80, b=80),\n",
    "    title=\"Countries Grouped by Communication Score\",\n",
    "    xaxis=dict(\n",
    "        title=\"Communication Style\",\n",
    "        tickmode='array',\n",
    "        tickvals=list(score_to_text.keys()),\n",
    "        ticktext=list(score_to_text.values()),\n",
    "        range=[0.5, 10.5]\n",
    "    ),\n",
    "    yaxis=dict(\n",
    "        title=\"Countries\",\n",
    "        showticklabels=False\n",
    "    )\n",
    ")\n",
    "fig.show()\n"
   ]
  },
  {
   "cell_type": "code",
   "execution_count": 5,
   "metadata": {},
   "outputs": [
    {
     "data": {
      "application/vnd.plotly.v1+json": {
       "config": {
        "plotlyServerURL": "https://plot.ly"
       },
       "data": [
        {
         "marker": {
          "size": 12
         },
         "mode": "markers+text",
         "name": "Score 2",
         "text": [
          "Denmark",
          "Finland",
          "Germany",
          "Iceland",
          "Norway",
          "Sweden"
         ],
         "textposition": "top center",
         "type": "scatter",
         "x": [
          2,
          2,
          2,
          2,
          2,
          2
         ],
         "y": {
          "bdata": "mpmZmZmZ2b+5HoXrUbjOv3wUrkfherS/eBSuR+F6tD+4HoXrUbjOP5qZmZmZmdk/",
          "dtype": "f8"
         }
        },
        {
         "marker": {
          "size": 12
         },
         "mode": "markers+text",
         "name": "Score 3",
         "text": [
          "Australia",
          "Austria",
          "Canada",
          "Estonia",
          "Israel",
          "Latvia",
          "Liechtenstein",
          "Lithuania",
          "Luxembourg",
          "Monaco",
          "Netherlands",
          "New Zealand",
          "United Kingdom",
          "United States"
         ],
         "textposition": "top center",
         "type": "scatter",
         "x": [
          3,
          3,
          3,
          3,
          3,
          3,
          3,
          3,
          3,
          3,
          3,
          3,
          3,
          3
         ],
         "y": {
          "bdata": "mpmZmZmZ2b+WWqmVWqnVv5IbuZEbudG/HLmRG7mRy78UO7ETO7HDvxh6oRd6obe/IPiBH/iBn78g+IEf+IGfPxh6oRd6obc/FDuxEzuxwz8cuZEbuZHLP5IbuZEbudE/llqplVqp1T+amZmZmZnZPw==",
          "dtype": "f8"
         }
        },
        {
         "marker": {
          "size": 12
         },
         "mode": "markers+text",
         "name": "Score 4",
         "text": [
          "Czech Republic",
          "Switzerland"
         ],
         "textposition": "top center",
         "type": "scatter",
         "x": [
          4,
          4
         ],
         "y": {
          "bdata": "mpmZmZmZ2b+amZmZmZnZPw==",
          "dtype": "f8"
         }
        },
        {
         "marker": {
          "size": 12
         },
         "mode": "markers+text",
         "name": "Score 5",
         "text": [
          "Afghanistan",
          "Albania",
          "Algeria",
          "Singapore",
          "Slovenia"
         ],
         "textposition": "top center",
         "type": "scatter",
         "x": [
          5,
          5,
          5,
          5,
          5
         ],
         "y": {
          "bdata": "mpmZmZmZ2b+amZmZmZnJvwAAAAAAAAAAnJmZmZmZyT+amZmZmZnZPw==",
          "dtype": "f8"
         }
        },
        {
         "marker": {
          "size": 12
         },
         "mode": "markers+text",
         "name": "Score 6",
         "text": [
          "Andorra",
          "Belgium",
          "France",
          "Slovakia"
         ],
         "textposition": "top center",
         "type": "scatter",
         "x": [
          6,
          6,
          6,
          6
         ],
         "y": {
          "bdata": "mpmZmZmZ2b8SERERERHBvxAREREREcE/mpmZmZmZ2T8=",
          "dtype": "f8"
         }
        },
        {
         "marker": {
          "size": 12
         },
         "mode": "markers+text",
         "name": "Score 7",
         "text": [
          "Belarus",
          "Costa Rica",
          "Hungary",
          "India",
          "Russia",
          "South Africa",
          "Ukraine"
         ],
         "textposition": "top center",
         "type": "scatter",
         "x": [
          7,
          7,
          7,
          7,
          7,
          7,
          7
         ],
         "y": {
          "bdata": "mpmZmZmZ2b8SERERERHRvxIREREREcG/AAAAAAAAAAAQERERERHBPxAREREREdE/mpmZmZmZ2T8=",
          "dtype": "f8"
         }
        },
        {
         "marker": {
          "size": 12
         },
         "mode": "markers+text",
         "name": "Score 8",
         "text": [
          "Argentina",
          "Bangladesh",
          "Barbados",
          "Bolivia",
          "Brazil",
          "Bulgaria",
          "Chile",
          "Colombia",
          "Côte d'Ivoire",
          "Croatia",
          "Cyprus",
          "Dominican Republic",
          "Ecuador",
          "Egypt",
          "El Salvador",
          "Ethiopia",
          "Ghana",
          "Greece",
          "Guatemala",
          "Honduras",
          "Italy",
          "Jamaica",
          "Japan",
          "Kenya",
          "Lebanon",
          "Malta",
          "Mexico",
          "Morocco",
          "Nicaragua",
          "Nigeria",
          "Panama",
          "Paraguay",
          "Peru",
          "Philippines",
          "Poland",
          "Portugal",
          "Romania",
          "Rwanda",
          "San Marino",
          "Senegal",
          "Serbia",
          "Spain",
          "Tanzania",
          "Trinidad and Tobago",
          "Turkey",
          "Uganda",
          "Uruguay"
         ],
         "textposition": "top center",
         "type": "scatter",
         "x": [
          8,
          8,
          8,
          8,
          8,
          8,
          8,
          8,
          8,
          8,
          8,
          8,
          8,
          8,
          8,
          8,
          8,
          8,
          8,
          8,
          8,
          8,
          8,
          8,
          8,
          8,
          8,
          8,
          8,
          8,
          8,
          8,
          8,
          8,
          8,
          8,
          8,
          8,
          8,
          8,
          8,
          8,
          8,
          8,
          8,
          8,
          8
         ],
         "y": {
          "bdata": "mpmZmZmZ2b+Icb8uqXzYv3ZJ5cO4X9e/ZCELWchC1r9T+TDu1yXVv0HRVoPnCNS/L6l8GPfr0r8dgaKtBs/RvwxZyEIWstC/82Hcr0sqz7/QESjaavDMv6zBcwSKtsq/iHG/Lql8yL9lIQtZyELGv0HRVoPnCMS/HoGirQbPwb/0YdyvSyq/v6zBcwSKtrq/ZCELWchCtr8ggaKtBs+xv7DBcwSKtqq/IIGirQbPob8ggaKtBs+RvwAAAAAAAAAAIIGirQbPkT8YgaKtBs+hP6jBcwSKtqo/HIGirQbPsT9kIQtZyEK2P6jBcwSKtro/8GHcr0sqvz8cgaKtBs/BP0DRVoPnCMQ/ZCELWchCxj+Icb8uqXzIP6zBcwSKtso/0BEo2mrwzD/0YdyvSyrPPwpZyEIWstA/HIGirQbP0T8uqXwY9+vSP0DRVoPnCNQ/Uvkw7tcl1T9kIQtZyELWP3ZJ5cO4X9c/iHG/Lql82D+amZmZmZnZPw==",
          "dtype": "f8"
         }
        },
        {
         "marker": {
          "size": 12
         },
         "mode": "markers+text",
         "name": "Score 9",
         "text": [
          "Bahrain",
          "China",
          "Indonesia",
          "Iran",
          "Jordan",
          "Kuwait",
          "Malaysia",
          "Myanmar",
          "Oman",
          "Qatar",
          "Saudi Arabia",
          "South Korea",
          "Thailand",
          "Uzbekistan",
          "Vietnam"
         ],
         "textposition": "top center",
         "type": "scatter",
         "x": [
          9,
          9,
          9,
          9,
          9,
          9,
          9,
          9,
          9,
          9,
          9,
          9,
          9,
          9,
          9
         ],
         "y": {
          "bdata": "mpmZmZmZ2b8WX/EVX/HVv5IkSZIkSdK/HtRBHdRBzb8WX/EVX/HFvxzUQR3UQb2/INRBHdRBrb8AAAAAAAAAACDUQR3UQa0/INRBHdRBvT8YX/EVX/HFPyDUQR3UQc0/kiRJkiRJ0j8WX/EVX/HVP5qZmZmZmdk/",
          "dtype": "f8"
         }
        }
       ],
       "layout": {
        "height": 1000,
        "margin": {
         "b": 80,
         "l": 80,
         "r": 80,
         "t": 80
        },
        "template": {
         "data": {
          "bar": [
           {
            "error_x": {
             "color": "#2a3f5f"
            },
            "error_y": {
             "color": "#2a3f5f"
            },
            "marker": {
             "line": {
              "color": "#E5ECF6",
              "width": 0.5
             },
             "pattern": {
              "fillmode": "overlay",
              "size": 10,
              "solidity": 0.2
             }
            },
            "type": "bar"
           }
          ],
          "barpolar": [
           {
            "marker": {
             "line": {
              "color": "#E5ECF6",
              "width": 0.5
             },
             "pattern": {
              "fillmode": "overlay",
              "size": 10,
              "solidity": 0.2
             }
            },
            "type": "barpolar"
           }
          ],
          "carpet": [
           {
            "aaxis": {
             "endlinecolor": "#2a3f5f",
             "gridcolor": "white",
             "linecolor": "white",
             "minorgridcolor": "white",
             "startlinecolor": "#2a3f5f"
            },
            "baxis": {
             "endlinecolor": "#2a3f5f",
             "gridcolor": "white",
             "linecolor": "white",
             "minorgridcolor": "white",
             "startlinecolor": "#2a3f5f"
            },
            "type": "carpet"
           }
          ],
          "choropleth": [
           {
            "colorbar": {
             "outlinewidth": 0,
             "ticks": ""
            },
            "type": "choropleth"
           }
          ],
          "contour": [
           {
            "colorbar": {
             "outlinewidth": 0,
             "ticks": ""
            },
            "colorscale": [
             [
              0,
              "#0d0887"
             ],
             [
              0.1111111111111111,
              "#46039f"
             ],
             [
              0.2222222222222222,
              "#7201a8"
             ],
             [
              0.3333333333333333,
              "#9c179e"
             ],
             [
              0.4444444444444444,
              "#bd3786"
             ],
             [
              0.5555555555555556,
              "#d8576b"
             ],
             [
              0.6666666666666666,
              "#ed7953"
             ],
             [
              0.7777777777777778,
              "#fb9f3a"
             ],
             [
              0.8888888888888888,
              "#fdca26"
             ],
             [
              1,
              "#f0f921"
             ]
            ],
            "type": "contour"
           }
          ],
          "contourcarpet": [
           {
            "colorbar": {
             "outlinewidth": 0,
             "ticks": ""
            },
            "type": "contourcarpet"
           }
          ],
          "heatmap": [
           {
            "colorbar": {
             "outlinewidth": 0,
             "ticks": ""
            },
            "colorscale": [
             [
              0,
              "#0d0887"
             ],
             [
              0.1111111111111111,
              "#46039f"
             ],
             [
              0.2222222222222222,
              "#7201a8"
             ],
             [
              0.3333333333333333,
              "#9c179e"
             ],
             [
              0.4444444444444444,
              "#bd3786"
             ],
             [
              0.5555555555555556,
              "#d8576b"
             ],
             [
              0.6666666666666666,
              "#ed7953"
             ],
             [
              0.7777777777777778,
              "#fb9f3a"
             ],
             [
              0.8888888888888888,
              "#fdca26"
             ],
             [
              1,
              "#f0f921"
             ]
            ],
            "type": "heatmap"
           }
          ],
          "histogram": [
           {
            "marker": {
             "pattern": {
              "fillmode": "overlay",
              "size": 10,
              "solidity": 0.2
             }
            },
            "type": "histogram"
           }
          ],
          "histogram2d": [
           {
            "colorbar": {
             "outlinewidth": 0,
             "ticks": ""
            },
            "colorscale": [
             [
              0,
              "#0d0887"
             ],
             [
              0.1111111111111111,
              "#46039f"
             ],
             [
              0.2222222222222222,
              "#7201a8"
             ],
             [
              0.3333333333333333,
              "#9c179e"
             ],
             [
              0.4444444444444444,
              "#bd3786"
             ],
             [
              0.5555555555555556,
              "#d8576b"
             ],
             [
              0.6666666666666666,
              "#ed7953"
             ],
             [
              0.7777777777777778,
              "#fb9f3a"
             ],
             [
              0.8888888888888888,
              "#fdca26"
             ],
             [
              1,
              "#f0f921"
             ]
            ],
            "type": "histogram2d"
           }
          ],
          "histogram2dcontour": [
           {
            "colorbar": {
             "outlinewidth": 0,
             "ticks": ""
            },
            "colorscale": [
             [
              0,
              "#0d0887"
             ],
             [
              0.1111111111111111,
              "#46039f"
             ],
             [
              0.2222222222222222,
              "#7201a8"
             ],
             [
              0.3333333333333333,
              "#9c179e"
             ],
             [
              0.4444444444444444,
              "#bd3786"
             ],
             [
              0.5555555555555556,
              "#d8576b"
             ],
             [
              0.6666666666666666,
              "#ed7953"
             ],
             [
              0.7777777777777778,
              "#fb9f3a"
             ],
             [
              0.8888888888888888,
              "#fdca26"
             ],
             [
              1,
              "#f0f921"
             ]
            ],
            "type": "histogram2dcontour"
           }
          ],
          "mesh3d": [
           {
            "colorbar": {
             "outlinewidth": 0,
             "ticks": ""
            },
            "type": "mesh3d"
           }
          ],
          "parcoords": [
           {
            "line": {
             "colorbar": {
              "outlinewidth": 0,
              "ticks": ""
             }
            },
            "type": "parcoords"
           }
          ],
          "pie": [
           {
            "automargin": true,
            "type": "pie"
           }
          ],
          "scatter": [
           {
            "fillpattern": {
             "fillmode": "overlay",
             "size": 10,
             "solidity": 0.2
            },
            "type": "scatter"
           }
          ],
          "scatter3d": [
           {
            "line": {
             "colorbar": {
              "outlinewidth": 0,
              "ticks": ""
             }
            },
            "marker": {
             "colorbar": {
              "outlinewidth": 0,
              "ticks": ""
             }
            },
            "type": "scatter3d"
           }
          ],
          "scattercarpet": [
           {
            "marker": {
             "colorbar": {
              "outlinewidth": 0,
              "ticks": ""
             }
            },
            "type": "scattercarpet"
           }
          ],
          "scattergeo": [
           {
            "marker": {
             "colorbar": {
              "outlinewidth": 0,
              "ticks": ""
             }
            },
            "type": "scattergeo"
           }
          ],
          "scattergl": [
           {
            "marker": {
             "colorbar": {
              "outlinewidth": 0,
              "ticks": ""
             }
            },
            "type": "scattergl"
           }
          ],
          "scattermap": [
           {
            "marker": {
             "colorbar": {
              "outlinewidth": 0,
              "ticks": ""
             }
            },
            "type": "scattermap"
           }
          ],
          "scattermapbox": [
           {
            "marker": {
             "colorbar": {
              "outlinewidth": 0,
              "ticks": ""
             }
            },
            "type": "scattermapbox"
           }
          ],
          "scatterpolar": [
           {
            "marker": {
             "colorbar": {
              "outlinewidth": 0,
              "ticks": ""
             }
            },
            "type": "scatterpolar"
           }
          ],
          "scatterpolargl": [
           {
            "marker": {
             "colorbar": {
              "outlinewidth": 0,
              "ticks": ""
             }
            },
            "type": "scatterpolargl"
           }
          ],
          "scatterternary": [
           {
            "marker": {
             "colorbar": {
              "outlinewidth": 0,
              "ticks": ""
             }
            },
            "type": "scatterternary"
           }
          ],
          "surface": [
           {
            "colorbar": {
             "outlinewidth": 0,
             "ticks": ""
            },
            "colorscale": [
             [
              0,
              "#0d0887"
             ],
             [
              0.1111111111111111,
              "#46039f"
             ],
             [
              0.2222222222222222,
              "#7201a8"
             ],
             [
              0.3333333333333333,
              "#9c179e"
             ],
             [
              0.4444444444444444,
              "#bd3786"
             ],
             [
              0.5555555555555556,
              "#d8576b"
             ],
             [
              0.6666666666666666,
              "#ed7953"
             ],
             [
              0.7777777777777778,
              "#fb9f3a"
             ],
             [
              0.8888888888888888,
              "#fdca26"
             ],
             [
              1,
              "#f0f921"
             ]
            ],
            "type": "surface"
           }
          ],
          "table": [
           {
            "cells": {
             "fill": {
              "color": "#EBF0F8"
             },
             "line": {
              "color": "white"
             }
            },
            "header": {
             "fill": {
              "color": "#C8D4E3"
             },
             "line": {
              "color": "white"
             }
            },
            "type": "table"
           }
          ]
         },
         "layout": {
          "annotationdefaults": {
           "arrowcolor": "#2a3f5f",
           "arrowhead": 0,
           "arrowwidth": 1
          },
          "autotypenumbers": "strict",
          "coloraxis": {
           "colorbar": {
            "outlinewidth": 0,
            "ticks": ""
           }
          },
          "colorscale": {
           "diverging": [
            [
             0,
             "#8e0152"
            ],
            [
             0.1,
             "#c51b7d"
            ],
            [
             0.2,
             "#de77ae"
            ],
            [
             0.3,
             "#f1b6da"
            ],
            [
             0.4,
             "#fde0ef"
            ],
            [
             0.5,
             "#f7f7f7"
            ],
            [
             0.6,
             "#e6f5d0"
            ],
            [
             0.7,
             "#b8e186"
            ],
            [
             0.8,
             "#7fbc41"
            ],
            [
             0.9,
             "#4d9221"
            ],
            [
             1,
             "#276419"
            ]
           ],
           "sequential": [
            [
             0,
             "#0d0887"
            ],
            [
             0.1111111111111111,
             "#46039f"
            ],
            [
             0.2222222222222222,
             "#7201a8"
            ],
            [
             0.3333333333333333,
             "#9c179e"
            ],
            [
             0.4444444444444444,
             "#bd3786"
            ],
            [
             0.5555555555555556,
             "#d8576b"
            ],
            [
             0.6666666666666666,
             "#ed7953"
            ],
            [
             0.7777777777777778,
             "#fb9f3a"
            ],
            [
             0.8888888888888888,
             "#fdca26"
            ],
            [
             1,
             "#f0f921"
            ]
           ],
           "sequentialminus": [
            [
             0,
             "#0d0887"
            ],
            [
             0.1111111111111111,
             "#46039f"
            ],
            [
             0.2222222222222222,
             "#7201a8"
            ],
            [
             0.3333333333333333,
             "#9c179e"
            ],
            [
             0.4444444444444444,
             "#bd3786"
            ],
            [
             0.5555555555555556,
             "#d8576b"
            ],
            [
             0.6666666666666666,
             "#ed7953"
            ],
            [
             0.7777777777777778,
             "#fb9f3a"
            ],
            [
             0.8888888888888888,
             "#fdca26"
            ],
            [
             1,
             "#f0f921"
            ]
           ]
          },
          "colorway": [
           "#636efa",
           "#EF553B",
           "#00cc96",
           "#ab63fa",
           "#FFA15A",
           "#19d3f3",
           "#FF6692",
           "#B6E880",
           "#FF97FF",
           "#FECB52"
          ],
          "font": {
           "color": "#2a3f5f"
          },
          "geo": {
           "bgcolor": "white",
           "lakecolor": "white",
           "landcolor": "#E5ECF6",
           "showlakes": true,
           "showland": true,
           "subunitcolor": "white"
          },
          "hoverlabel": {
           "align": "left"
          },
          "hovermode": "closest",
          "mapbox": {
           "style": "light"
          },
          "paper_bgcolor": "white",
          "plot_bgcolor": "#E5ECF6",
          "polar": {
           "angularaxis": {
            "gridcolor": "white",
            "linecolor": "white",
            "ticks": ""
           },
           "bgcolor": "#E5ECF6",
           "radialaxis": {
            "gridcolor": "white",
            "linecolor": "white",
            "ticks": ""
           }
          },
          "scene": {
           "xaxis": {
            "backgroundcolor": "#E5ECF6",
            "gridcolor": "white",
            "gridwidth": 2,
            "linecolor": "white",
            "showbackground": true,
            "ticks": "",
            "zerolinecolor": "white"
           },
           "yaxis": {
            "backgroundcolor": "#E5ECF6",
            "gridcolor": "white",
            "gridwidth": 2,
            "linecolor": "white",
            "showbackground": true,
            "ticks": "",
            "zerolinecolor": "white"
           },
           "zaxis": {
            "backgroundcolor": "#E5ECF6",
            "gridcolor": "white",
            "gridwidth": 2,
            "linecolor": "white",
            "showbackground": true,
            "ticks": "",
            "zerolinecolor": "white"
           }
          },
          "shapedefaults": {
           "line": {
            "color": "#2a3f5f"
           }
          },
          "ternary": {
           "aaxis": {
            "gridcolor": "white",
            "linecolor": "white",
            "ticks": ""
           },
           "baxis": {
            "gridcolor": "white",
            "linecolor": "white",
            "ticks": ""
           },
           "bgcolor": "#E5ECF6",
           "caxis": {
            "gridcolor": "white",
            "linecolor": "white",
            "ticks": ""
           }
          },
          "title": {
           "x": 0.05
          },
          "xaxis": {
           "automargin": true,
           "gridcolor": "white",
           "linecolor": "white",
           "ticks": "",
           "title": {
            "standoff": 15
           },
           "zerolinecolor": "white",
           "zerolinewidth": 2
          },
          "yaxis": {
           "automargin": true,
           "gridcolor": "white",
           "linecolor": "white",
           "ticks": "",
           "title": {
            "standoff": 15
           },
           "zerolinecolor": "white",
           "zerolinewidth": 2
          }
         }
        },
        "title": {
         "text": "Countries Grouped by Leadership Score"
        },
        "width": 1500,
        "xaxis": {
         "range": [
          0.5,
          10.5
         ],
         "tickmode": "array",
         "ticktext": [
          "Completely Egalitarian / Flat",
          "Highly Collaborative",
          "Collaborative",
          "Democratic",
          "Balanced (shared and directed)",
          "Structured",
          "Hierarchical",
          "Commanding",
          "Authoritative",
          "Extremely Hierarchical / Autocratic"
         ],
         "tickvals": [
          1,
          2,
          3,
          4,
          5,
          6,
          7,
          8,
          9,
          10
         ],
         "title": {
          "text": "Leadership Style"
         }
        },
        "yaxis": {
         "showticklabels": false,
         "title": {
          "text": "Countries"
         }
        }
       }
      }
     },
     "metadata": {},
     "output_type": "display_data"
    }
   ],
   "source": [
    "import pandas as pd\n",
    "import numpy as np\n",
    "import plotly.express as px\n",
    "import plotly.graph_objects as go\n",
    "\n",
    "#Upload data frame of dimensions\n",
    "df_country = pd.read_excel(\"culture_map.xlsx\", sheet_name = \"countries\")\n",
    "df_dimensions = pd.read_excel(\"culture_map.xlsx\", sheet_name = \"dimensions\")\n",
    "\n",
    "#Leadership\n",
    "# --- 1) LOAD THE SCORE-DESCRIPTION MAPPINGS ---\n",
    "# Create a dictionary like {1: 'Extremely Direct / Explicit', 2: 'Very Direct', ...}\n",
    "score_to_text = dict(zip(df_dimensions[\"Score\"], df_dimensions[\"Leadership\"]))\n",
    "\n",
    "# Assuming the Excel file has columns named \"Country\" and \"Leadership\"\n",
    "# Group countries by their Leadership score\n",
    "scores = sorted(df_country['Leadership'].unique())\n",
    "\n",
    "fig = go.Figure()\n",
    "\n",
    "# For clarity, we add jitter on the y-axis so markers in the same cluster don’t overlap.\n",
    "# Here we generate a small range of y-values for each country in a group.\n",
    "for score in scores:\n",
    "    cluster = df_country[df_country['Leadership'] == score]\n",
    "    # Create jitter values; the more points, the more spread out they will be.\n",
    "    jitter = np.linspace(-0.4, 0.4, len(cluster))\n",
    "    \n",
    "    fig.add_trace(go.Scatter(\n",
    "        x=[score] * len(cluster),\n",
    "        y=jitter,\n",
    "        mode='markers+text',\n",
    "        marker=dict(size=12),\n",
    "        text=cluster['Country'],      # Display country names on hover (or as labels)\n",
    "        textposition='top center',\n",
    "        name=f\"Score {score}\"\n",
    "    ))\n",
    "\n",
    "# --- 4) CONFIGURE THE X-AXIS TO SHOW TEXT INSTEAD OF NUMBERS ---\n",
    "fig.update_layout(\n",
    "    title=\"Countries Grouped by Leadership Score\",\n",
    "    xaxis=dict(\n",
    "        title=\"Leadership Style\",\n",
    "        tickmode='array',\n",
    "        # 'tickvals' are the numeric positions\n",
    "        tickvals=list(score_to_text.keys()),  \n",
    "        # 'ticktext' are the labels we want to display\n",
    "        ticktext=list(score_to_text.values()),\n",
    "        # If you want to ensure we see all ticks from 1 to 10, you can do:\n",
    "        range=[0.5, 10.5]  # This centers ticks from 1..10\n",
    "    ),\n",
    "    yaxis=dict(\n",
    "        title=\"Countries\",\n",
    "        showticklabels=False  # Hides y-axis labels, since we only use it for jitter\n",
    "    ),\n",
    "    margin=dict(l=80, r=80, t=80, b=80)\n",
    ")\n",
    "fig.update_layout(\n",
    "    width=1500,    # Increase width\n",
    "    height=1000,    # Increase height\n",
    "    margin=dict(l=80, r=80, t=80, b=80),\n",
    "    title=\"Countries Grouped by Leadership Score\",\n",
    "    xaxis=dict(\n",
    "        title=\"Leadership Style\",\n",
    "        tickmode='array',\n",
    "        tickvals=list(score_to_text.keys()),\n",
    "        ticktext=list(score_to_text.values()),\n",
    "        range=[0.5, 10.5]\n",
    "    ),\n",
    "    yaxis=dict(\n",
    "        title=\"Countries\",\n",
    "        showticklabels=False\n",
    "    )\n",
    ")\n",
    "fig.show()\n"
   ]
  },
  {
   "cell_type": "code",
   "execution_count": 6,
   "metadata": {},
   "outputs": [
    {
     "data": {
      "application/vnd.plotly.v1+json": {
       "config": {
        "plotlyServerURL": "https://plot.ly"
       },
       "data": [
        {
         "marker": {
          "size": 12
         },
         "mode": "markers+text",
         "name": "Score 2",
         "text": [
          "Australia",
          "Denmark",
          "Finland",
          "Germany",
          "Iceland",
          "Norway",
          "Sweden",
          "Switzerland",
          "United States"
         ],
         "textposition": "top center",
         "type": "scatter",
         "x": [
          2,
          2,
          2,
          2,
          2,
          2,
          2,
          2,
          2
         ],
         "y": {
          "bdata": "mpmZmZmZ2b80MzMzMzPTv5qZmZmZmcm/mJmZmZmZub8AAAAAAAAAAJiZmZmZmbk/nJmZmZmZyT80MzMzMzPTP5qZmZmZmdk/",
          "dtype": "f8"
         }
        },
        {
         "marker": {
          "size": 12
         },
         "mode": "markers+text",
         "name": "Score 3",
         "text": [
          "Austria",
          "Canada",
          "Estonia",
          "Israel",
          "Latvia",
          "Liechtenstein",
          "Lithuania",
          "Luxembourg",
          "Monaco",
          "Netherlands",
          "New Zealand",
          "United Kingdom"
         ],
         "textposition": "top center",
         "type": "scatter",
         "x": [
          3,
          3,
          3,
          3,
          3,
          3,
          3,
          3,
          3,
          3,
          3,
          3
         ],
         "y": {
          "bdata": "mpmZmZmZ2b/ylCBPCfLUv0qQpwR5StC/RhdddNFFx7/sG9a+Ye27v5gS5ClBnqK/oBLkKUGeoj/wG9a+Ye27P0gXXXTRRcc/TJCnBHlK0D/0lCBPCfLUP5qZmZmZmdk/",
          "dtype": "f8"
         }
        },
        {
         "marker": {
          "size": 12
         },
         "mode": "markers+text",
         "name": "Score 4",
         "text": [
          "Czech Republic",
          "Singapore"
         ],
         "textposition": "top center",
         "type": "scatter",
         "x": [
          4,
          4
         ],
         "y": {
          "bdata": "mpmZmZmZ2b+amZmZmZnZPw==",
          "dtype": "f8"
         }
        },
        {
         "marker": {
          "size": 12
         },
         "mode": "markers+text",
         "name": "Score 5",
         "text": [
          "Afghanistan",
          "Albania",
          "Algeria",
          "Belgium",
          "Slovenia"
         ],
         "textposition": "top center",
         "type": "scatter",
         "x": [
          5,
          5,
          5,
          5,
          5
         ],
         "y": {
          "bdata": "mpmZmZmZ2b+amZmZmZnJvwAAAAAAAAAAnJmZmZmZyT+amZmZmZnZPw==",
          "dtype": "f8"
         }
        },
        {
         "marker": {
          "size": 12
         },
         "mode": "markers+text",
         "name": "Score 6",
         "text": [
          "Andorra",
          "France",
          "Slovakia",
          "South Africa",
          "South Korea"
         ],
         "textposition": "top center",
         "type": "scatter",
         "x": [
          6,
          6,
          6,
          6,
          6
         ],
         "y": {
          "bdata": "mpmZmZmZ2b+amZmZmZnJvwAAAAAAAAAAnJmZmZmZyT+amZmZmZnZPw==",
          "dtype": "f8"
         }
        },
        {
         "marker": {
          "size": 12
         },
         "mode": "markers+text",
         "name": "Score 7",
         "text": [
          "Bangladesh",
          "Belarus",
          "Bulgaria",
          "Costa Rica",
          "Egypt",
          "Hungary",
          "India",
          "Kenya",
          "Poland",
          "Romania",
          "Russia",
          "Ukraine"
         ],
         "textposition": "top center",
         "type": "scatter",
         "x": [
          7,
          7,
          7,
          7,
          7,
          7,
          7,
          7,
          7,
          7,
          7,
          7
         ],
         "y": {
          "bdata": "mpmZmZmZ2b/ylCBPCfLUv0qQpwR5StC/RhdddNFFx7/sG9a+Ye27v5gS5ClBnqK/oBLkKUGeoj/wG9a+Ye27P0gXXXTRRcc/TJCnBHlK0D/0lCBPCfLUP5qZmZmZmdk/",
          "dtype": "f8"
         }
        },
        {
         "marker": {
          "size": 12
         },
         "mode": "markers+text",
         "name": "Score 8",
         "text": [
          "Argentina",
          "Bahrain",
          "Barbados",
          "Bolivia",
          "Brazil",
          "Chile",
          "China",
          "Colombia",
          "Côte d'Ivoire",
          "Croatia",
          "Cyprus",
          "Dominican Republic",
          "Ecuador",
          "El Salvador",
          "Ethiopia",
          "Ghana",
          "Guatemala",
          "Honduras",
          "Iran",
          "Jamaica",
          "Jordan",
          "Kuwait",
          "Lebanon",
          "Malaysia",
          "Malta",
          "Mexico",
          "Morocco",
          "Nicaragua",
          "Nigeria",
          "Oman",
          "Panama",
          "Paraguay",
          "Peru",
          "Philippines",
          "Portugal",
          "Qatar",
          "Rwanda",
          "San Marino",
          "Saudi Arabia",
          "Senegal",
          "Serbia",
          "Tanzania",
          "Trinidad and Tobago",
          "Turkey",
          "Uganda",
          "Uruguay",
          "Uzbekistan"
         ],
         "textposition": "top center",
         "type": "scatter",
         "x": [
          8,
          8,
          8,
          8,
          8,
          8,
          8,
          8,
          8,
          8,
          8,
          8,
          8,
          8,
          8,
          8,
          8,
          8,
          8,
          8,
          8,
          8,
          8,
          8,
          8,
          8,
          8,
          8,
          8,
          8,
          8,
          8,
          8,
          8,
          8,
          8,
          8,
          8,
          8,
          8,
          8,
          8,
          8,
          8,
          8,
          8,
          8
         ],
         "y": {
          "bdata": "mpmZmZmZ2b+Icb8uqXzYv3ZJ5cO4X9e/ZCELWchC1r9T+TDu1yXVv0HRVoPnCNS/L6l8GPfr0r8dgaKtBs/RvwxZyEIWstC/82Hcr0sqz7/QESjaavDMv6zBcwSKtsq/iHG/Lql8yL9lIQtZyELGv0HRVoPnCMS/HoGirQbPwb/0YdyvSyq/v6zBcwSKtrq/ZCELWchCtr8ggaKtBs+xv7DBcwSKtqq/IIGirQbPob8ggaKtBs+RvwAAAAAAAAAAIIGirQbPkT8YgaKtBs+hP6jBcwSKtqo/HIGirQbPsT9kIQtZyEK2P6jBcwSKtro/8GHcr0sqvz8cgaKtBs/BP0DRVoPnCMQ/ZCELWchCxj+Icb8uqXzIP6zBcwSKtso/0BEo2mrwzD/0YdyvSyrPPwpZyEIWstA/HIGirQbP0T8uqXwY9+vSP0DRVoPnCNQ/Uvkw7tcl1T9kIQtZyELWP3ZJ5cO4X9c/iHG/Lql82D+amZmZmZnZPw==",
          "dtype": "f8"
         }
        },
        {
         "marker": {
          "size": 12
         },
         "mode": "markers+text",
         "name": "Score 9",
         "text": [
          "Greece",
          "Indonesia",
          "Italy",
          "Japan",
          "Myanmar",
          "Spain",
          "Thailand",
          "Vietnam"
         ],
         "textposition": "top center",
         "type": "scatter",
         "x": [
          9,
          9,
          9,
          9,
          9,
          9,
          9,
          9
         ],
         "y": {
          "bdata": "mpmZmZmZ2b+SJEmSJEnSvxZf8RVf8cW/INRBHdRBrb8g1EEd1EGtPxhf8RVf8cU/kiRJkiRJ0j+amZmZmZnZPw==",
          "dtype": "f8"
         }
        }
       ],
       "layout": {
        "height": 1000,
        "margin": {
         "b": 80,
         "l": 80,
         "r": 80,
         "t": 80
        },
        "template": {
         "data": {
          "bar": [
           {
            "error_x": {
             "color": "#2a3f5f"
            },
            "error_y": {
             "color": "#2a3f5f"
            },
            "marker": {
             "line": {
              "color": "#E5ECF6",
              "width": 0.5
             },
             "pattern": {
              "fillmode": "overlay",
              "size": 10,
              "solidity": 0.2
             }
            },
            "type": "bar"
           }
          ],
          "barpolar": [
           {
            "marker": {
             "line": {
              "color": "#E5ECF6",
              "width": 0.5
             },
             "pattern": {
              "fillmode": "overlay",
              "size": 10,
              "solidity": 0.2
             }
            },
            "type": "barpolar"
           }
          ],
          "carpet": [
           {
            "aaxis": {
             "endlinecolor": "#2a3f5f",
             "gridcolor": "white",
             "linecolor": "white",
             "minorgridcolor": "white",
             "startlinecolor": "#2a3f5f"
            },
            "baxis": {
             "endlinecolor": "#2a3f5f",
             "gridcolor": "white",
             "linecolor": "white",
             "minorgridcolor": "white",
             "startlinecolor": "#2a3f5f"
            },
            "type": "carpet"
           }
          ],
          "choropleth": [
           {
            "colorbar": {
             "outlinewidth": 0,
             "ticks": ""
            },
            "type": "choropleth"
           }
          ],
          "contour": [
           {
            "colorbar": {
             "outlinewidth": 0,
             "ticks": ""
            },
            "colorscale": [
             [
              0,
              "#0d0887"
             ],
             [
              0.1111111111111111,
              "#46039f"
             ],
             [
              0.2222222222222222,
              "#7201a8"
             ],
             [
              0.3333333333333333,
              "#9c179e"
             ],
             [
              0.4444444444444444,
              "#bd3786"
             ],
             [
              0.5555555555555556,
              "#d8576b"
             ],
             [
              0.6666666666666666,
              "#ed7953"
             ],
             [
              0.7777777777777778,
              "#fb9f3a"
             ],
             [
              0.8888888888888888,
              "#fdca26"
             ],
             [
              1,
              "#f0f921"
             ]
            ],
            "type": "contour"
           }
          ],
          "contourcarpet": [
           {
            "colorbar": {
             "outlinewidth": 0,
             "ticks": ""
            },
            "type": "contourcarpet"
           }
          ],
          "heatmap": [
           {
            "colorbar": {
             "outlinewidth": 0,
             "ticks": ""
            },
            "colorscale": [
             [
              0,
              "#0d0887"
             ],
             [
              0.1111111111111111,
              "#46039f"
             ],
             [
              0.2222222222222222,
              "#7201a8"
             ],
             [
              0.3333333333333333,
              "#9c179e"
             ],
             [
              0.4444444444444444,
              "#bd3786"
             ],
             [
              0.5555555555555556,
              "#d8576b"
             ],
             [
              0.6666666666666666,
              "#ed7953"
             ],
             [
              0.7777777777777778,
              "#fb9f3a"
             ],
             [
              0.8888888888888888,
              "#fdca26"
             ],
             [
              1,
              "#f0f921"
             ]
            ],
            "type": "heatmap"
           }
          ],
          "histogram": [
           {
            "marker": {
             "pattern": {
              "fillmode": "overlay",
              "size": 10,
              "solidity": 0.2
             }
            },
            "type": "histogram"
           }
          ],
          "histogram2d": [
           {
            "colorbar": {
             "outlinewidth": 0,
             "ticks": ""
            },
            "colorscale": [
             [
              0,
              "#0d0887"
             ],
             [
              0.1111111111111111,
              "#46039f"
             ],
             [
              0.2222222222222222,
              "#7201a8"
             ],
             [
              0.3333333333333333,
              "#9c179e"
             ],
             [
              0.4444444444444444,
              "#bd3786"
             ],
             [
              0.5555555555555556,
              "#d8576b"
             ],
             [
              0.6666666666666666,
              "#ed7953"
             ],
             [
              0.7777777777777778,
              "#fb9f3a"
             ],
             [
              0.8888888888888888,
              "#fdca26"
             ],
             [
              1,
              "#f0f921"
             ]
            ],
            "type": "histogram2d"
           }
          ],
          "histogram2dcontour": [
           {
            "colorbar": {
             "outlinewidth": 0,
             "ticks": ""
            },
            "colorscale": [
             [
              0,
              "#0d0887"
             ],
             [
              0.1111111111111111,
              "#46039f"
             ],
             [
              0.2222222222222222,
              "#7201a8"
             ],
             [
              0.3333333333333333,
              "#9c179e"
             ],
             [
              0.4444444444444444,
              "#bd3786"
             ],
             [
              0.5555555555555556,
              "#d8576b"
             ],
             [
              0.6666666666666666,
              "#ed7953"
             ],
             [
              0.7777777777777778,
              "#fb9f3a"
             ],
             [
              0.8888888888888888,
              "#fdca26"
             ],
             [
              1,
              "#f0f921"
             ]
            ],
            "type": "histogram2dcontour"
           }
          ],
          "mesh3d": [
           {
            "colorbar": {
             "outlinewidth": 0,
             "ticks": ""
            },
            "type": "mesh3d"
           }
          ],
          "parcoords": [
           {
            "line": {
             "colorbar": {
              "outlinewidth": 0,
              "ticks": ""
             }
            },
            "type": "parcoords"
           }
          ],
          "pie": [
           {
            "automargin": true,
            "type": "pie"
           }
          ],
          "scatter": [
           {
            "fillpattern": {
             "fillmode": "overlay",
             "size": 10,
             "solidity": 0.2
            },
            "type": "scatter"
           }
          ],
          "scatter3d": [
           {
            "line": {
             "colorbar": {
              "outlinewidth": 0,
              "ticks": ""
             }
            },
            "marker": {
             "colorbar": {
              "outlinewidth": 0,
              "ticks": ""
             }
            },
            "type": "scatter3d"
           }
          ],
          "scattercarpet": [
           {
            "marker": {
             "colorbar": {
              "outlinewidth": 0,
              "ticks": ""
             }
            },
            "type": "scattercarpet"
           }
          ],
          "scattergeo": [
           {
            "marker": {
             "colorbar": {
              "outlinewidth": 0,
              "ticks": ""
             }
            },
            "type": "scattergeo"
           }
          ],
          "scattergl": [
           {
            "marker": {
             "colorbar": {
              "outlinewidth": 0,
              "ticks": ""
             }
            },
            "type": "scattergl"
           }
          ],
          "scattermap": [
           {
            "marker": {
             "colorbar": {
              "outlinewidth": 0,
              "ticks": ""
             }
            },
            "type": "scattermap"
           }
          ],
          "scattermapbox": [
           {
            "marker": {
             "colorbar": {
              "outlinewidth": 0,
              "ticks": ""
             }
            },
            "type": "scattermapbox"
           }
          ],
          "scatterpolar": [
           {
            "marker": {
             "colorbar": {
              "outlinewidth": 0,
              "ticks": ""
             }
            },
            "type": "scatterpolar"
           }
          ],
          "scatterpolargl": [
           {
            "marker": {
             "colorbar": {
              "outlinewidth": 0,
              "ticks": ""
             }
            },
            "type": "scatterpolargl"
           }
          ],
          "scatterternary": [
           {
            "marker": {
             "colorbar": {
              "outlinewidth": 0,
              "ticks": ""
             }
            },
            "type": "scatterternary"
           }
          ],
          "surface": [
           {
            "colorbar": {
             "outlinewidth": 0,
             "ticks": ""
            },
            "colorscale": [
             [
              0,
              "#0d0887"
             ],
             [
              0.1111111111111111,
              "#46039f"
             ],
             [
              0.2222222222222222,
              "#7201a8"
             ],
             [
              0.3333333333333333,
              "#9c179e"
             ],
             [
              0.4444444444444444,
              "#bd3786"
             ],
             [
              0.5555555555555556,
              "#d8576b"
             ],
             [
              0.6666666666666666,
              "#ed7953"
             ],
             [
              0.7777777777777778,
              "#fb9f3a"
             ],
             [
              0.8888888888888888,
              "#fdca26"
             ],
             [
              1,
              "#f0f921"
             ]
            ],
            "type": "surface"
           }
          ],
          "table": [
           {
            "cells": {
             "fill": {
              "color": "#EBF0F8"
             },
             "line": {
              "color": "white"
             }
            },
            "header": {
             "fill": {
              "color": "#C8D4E3"
             },
             "line": {
              "color": "white"
             }
            },
            "type": "table"
           }
          ]
         },
         "layout": {
          "annotationdefaults": {
           "arrowcolor": "#2a3f5f",
           "arrowhead": 0,
           "arrowwidth": 1
          },
          "autotypenumbers": "strict",
          "coloraxis": {
           "colorbar": {
            "outlinewidth": 0,
            "ticks": ""
           }
          },
          "colorscale": {
           "diverging": [
            [
             0,
             "#8e0152"
            ],
            [
             0.1,
             "#c51b7d"
            ],
            [
             0.2,
             "#de77ae"
            ],
            [
             0.3,
             "#f1b6da"
            ],
            [
             0.4,
             "#fde0ef"
            ],
            [
             0.5,
             "#f7f7f7"
            ],
            [
             0.6,
             "#e6f5d0"
            ],
            [
             0.7,
             "#b8e186"
            ],
            [
             0.8,
             "#7fbc41"
            ],
            [
             0.9,
             "#4d9221"
            ],
            [
             1,
             "#276419"
            ]
           ],
           "sequential": [
            [
             0,
             "#0d0887"
            ],
            [
             0.1111111111111111,
             "#46039f"
            ],
            [
             0.2222222222222222,
             "#7201a8"
            ],
            [
             0.3333333333333333,
             "#9c179e"
            ],
            [
             0.4444444444444444,
             "#bd3786"
            ],
            [
             0.5555555555555556,
             "#d8576b"
            ],
            [
             0.6666666666666666,
             "#ed7953"
            ],
            [
             0.7777777777777778,
             "#fb9f3a"
            ],
            [
             0.8888888888888888,
             "#fdca26"
            ],
            [
             1,
             "#f0f921"
            ]
           ],
           "sequentialminus": [
            [
             0,
             "#0d0887"
            ],
            [
             0.1111111111111111,
             "#46039f"
            ],
            [
             0.2222222222222222,
             "#7201a8"
            ],
            [
             0.3333333333333333,
             "#9c179e"
            ],
            [
             0.4444444444444444,
             "#bd3786"
            ],
            [
             0.5555555555555556,
             "#d8576b"
            ],
            [
             0.6666666666666666,
             "#ed7953"
            ],
            [
             0.7777777777777778,
             "#fb9f3a"
            ],
            [
             0.8888888888888888,
             "#fdca26"
            ],
            [
             1,
             "#f0f921"
            ]
           ]
          },
          "colorway": [
           "#636efa",
           "#EF553B",
           "#00cc96",
           "#ab63fa",
           "#FFA15A",
           "#19d3f3",
           "#FF6692",
           "#B6E880",
           "#FF97FF",
           "#FECB52"
          ],
          "font": {
           "color": "#2a3f5f"
          },
          "geo": {
           "bgcolor": "white",
           "lakecolor": "white",
           "landcolor": "#E5ECF6",
           "showlakes": true,
           "showland": true,
           "subunitcolor": "white"
          },
          "hoverlabel": {
           "align": "left"
          },
          "hovermode": "closest",
          "mapbox": {
           "style": "light"
          },
          "paper_bgcolor": "white",
          "plot_bgcolor": "#E5ECF6",
          "polar": {
           "angularaxis": {
            "gridcolor": "white",
            "linecolor": "white",
            "ticks": ""
           },
           "bgcolor": "#E5ECF6",
           "radialaxis": {
            "gridcolor": "white",
            "linecolor": "white",
            "ticks": ""
           }
          },
          "scene": {
           "xaxis": {
            "backgroundcolor": "#E5ECF6",
            "gridcolor": "white",
            "gridwidth": 2,
            "linecolor": "white",
            "showbackground": true,
            "ticks": "",
            "zerolinecolor": "white"
           },
           "yaxis": {
            "backgroundcolor": "#E5ECF6",
            "gridcolor": "white",
            "gridwidth": 2,
            "linecolor": "white",
            "showbackground": true,
            "ticks": "",
            "zerolinecolor": "white"
           },
           "zaxis": {
            "backgroundcolor": "#E5ECF6",
            "gridcolor": "white",
            "gridwidth": 2,
            "linecolor": "white",
            "showbackground": true,
            "ticks": "",
            "zerolinecolor": "white"
           }
          },
          "shapedefaults": {
           "line": {
            "color": "#2a3f5f"
           }
          },
          "ternary": {
           "aaxis": {
            "gridcolor": "white",
            "linecolor": "white",
            "ticks": ""
           },
           "baxis": {
            "gridcolor": "white",
            "linecolor": "white",
            "ticks": ""
           },
           "bgcolor": "#E5ECF6",
           "caxis": {
            "gridcolor": "white",
            "linecolor": "white",
            "ticks": ""
           }
          },
          "title": {
           "x": 0.05
          },
          "xaxis": {
           "automargin": true,
           "gridcolor": "white",
           "linecolor": "white",
           "ticks": "",
           "title": {
            "standoff": 15
           },
           "zerolinecolor": "white",
           "zerolinewidth": 2
          },
          "yaxis": {
           "automargin": true,
           "gridcolor": "white",
           "linecolor": "white",
           "ticks": "",
           "title": {
            "standoff": 15
           },
           "zerolinecolor": "white",
           "zerolinewidth": 2
          }
         }
        },
        "title": {
         "text": "Countries Grouped by Scheduling Score"
        },
        "width": 1500,
        "xaxis": {
         "range": [
          0.5,
          10.5
         ],
         "tickmode": "array",
         "ticktext": [
          "Rigidly Linear / Highly Structured",
          "Very Structured",
          "Structured",
          "Moderately Structured",
          "Balanced (organized with room for change)",
          "Moderately Flexible",
          "Flexible",
          "Very Flexible",
          "Highly Fluid",
          "Extremely Flexible / Fluid"
         ],
         "tickvals": [
          1,
          2,
          3,
          4,
          5,
          6,
          7,
          8,
          9,
          10
         ],
         "title": {
          "text": "Scheduling Style"
         }
        },
        "yaxis": {
         "showticklabels": false,
         "title": {
          "text": "Countries"
         }
        }
       }
      }
     },
     "metadata": {},
     "output_type": "display_data"
    }
   ],
   "source": [
    "import pandas as pd\n",
    "import numpy as np\n",
    "import plotly.express as px\n",
    "import plotly.graph_objects as go\n",
    "\n",
    "#Upload data frame of dimensions\n",
    "df_country = pd.read_excel(\"culture_map.xlsx\", sheet_name = \"countries\")\n",
    "df_dimensions = pd.read_excel(\"culture_map.xlsx\", sheet_name = \"dimensions\")\n",
    "\n",
    "#Scheduling\n",
    "# --- 1) LOAD THE SCORE-DESCRIPTION MAPPINGS ---\n",
    "# Create a dictionary like {1: 'Extremely Direct / Explicit', 2: 'Very Direct', ...}\n",
    "score_to_text = dict(zip(df_dimensions[\"Score\"], df_dimensions[\"Scheduling\"]))\n",
    "\n",
    "# Assuming the Excel file has columns named \"Country\" and \"Scheduling\"\n",
    "# Group countries by their Scheduling score\n",
    "scores = sorted(df_country['Scheduling'].unique())\n",
    "\n",
    "fig = go.Figure()\n",
    "\n",
    "# For clarity, we add jitter on the y-axis so markers in the same cluster don’t overlap.\n",
    "# Here we generate a small range of y-values for each country in a group.\n",
    "for score in scores:\n",
    "    cluster = df_country[df_country['Scheduling'] == score]\n",
    "    # Create jitter values; the more points, the more spread out they will be.\n",
    "    jitter = np.linspace(-0.4, 0.4, len(cluster))\n",
    "    \n",
    "    fig.add_trace(go.Scatter(\n",
    "        x=[score] * len(cluster),\n",
    "        y=jitter,\n",
    "        mode='markers+text',\n",
    "        marker=dict(size=12),\n",
    "        text=cluster['Country'],      # Display country names on hover (or as labels)\n",
    "        textposition='top center',\n",
    "        name=f\"Score {score}\"\n",
    "    ))\n",
    "\n",
    "# --- 4) CONFIGURE THE X-AXIS TO SHOW TEXT INSTEAD OF NUMBERS ---\n",
    "fig.update_layout(\n",
    "    title=\"Countries Grouped by Scheduling Score\",\n",
    "    xaxis=dict(\n",
    "        title=\"Scheduling Style\",\n",
    "        tickmode='array',\n",
    "        # 'tickvals' are the numeric positions\n",
    "        tickvals=list(score_to_text.keys()),  \n",
    "        # 'ticktext' are the labels we want to display\n",
    "        ticktext=list(score_to_text.values()),\n",
    "        # If you want to ensure we see all ticks from 1 to 10, you can do:\n",
    "        range=[0.5, 10.5]  # This centers ticks from 1..10\n",
    "    ),\n",
    "    yaxis=dict(\n",
    "        title=\"Countries\",\n",
    "        showticklabels=False  # Hides y-axis labels, since we only use it for jitter\n",
    "    ),\n",
    "    margin=dict(l=80, r=80, t=80, b=80)\n",
    ")\n",
    "fig.update_layout(\n",
    "    width=1500,    # Increase width\n",
    "    height=1000,    # Increase height\n",
    "    margin=dict(l=80, r=80, t=80, b=80),\n",
    "    title=\"Countries Grouped by Scheduling Score\",\n",
    "    xaxis=dict(\n",
    "        title=\"Scheduling Style\",\n",
    "        tickmode='array',\n",
    "        tickvals=list(score_to_text.keys()),\n",
    "        ticktext=list(score_to_text.values()),\n",
    "        range=[0.5, 10.5]\n",
    "    ),\n",
    "    yaxis=dict(\n",
    "        title=\"Countries\",\n",
    "        showticklabels=False\n",
    "    )\n",
    ")\n",
    "fig.show()"
   ]
  },
  {
   "cell_type": "code",
   "execution_count": 7,
   "metadata": {},
   "outputs": [
    {
     "data": {
      "application/vnd.plotly.v1+json": {
       "config": {
        "plotlyServerURL": "https://plot.ly"
       },
       "data": [
        {
         "marker": {
          "size": 12
         },
         "mode": "markers+text",
         "name": "Score 2",
         "text": [
          "Denmark",
          "Finland",
          "Germany",
          "Iceland",
          "Israel",
          "Norway",
          "Sweden"
         ],
         "textposition": "top center",
         "type": "scatter",
         "x": [
          2,
          2,
          2,
          2,
          2,
          2,
          2
         ],
         "y": {
          "bdata": "mpmZmZmZ2b8SERERERHRvxIREREREcG/AAAAAAAAAAAQERERERHBPxAREREREdE/mpmZmZmZ2T8=",
          "dtype": "f8"
         }
        },
        {
         "marker": {
          "size": 12
         },
         "mode": "markers+text",
         "name": "Score 3",
         "text": [
          "Australia",
          "Austria",
          "Canada",
          "Estonia",
          "Latvia",
          "Liechtenstein",
          "Lithuania",
          "Luxembourg",
          "Monaco",
          "Netherlands",
          "New Zealand",
          "Switzerland",
          "United Kingdom",
          "United States"
         ],
         "textposition": "top center",
         "type": "scatter",
         "x": [
          3,
          3,
          3,
          3,
          3,
          3,
          3,
          3,
          3,
          3,
          3,
          3,
          3,
          3
         ],
         "y": {
          "bdata": "mpmZmZmZ2b+WWqmVWqnVv5IbuZEbudG/HLmRG7mRy78UO7ETO7HDvxh6oRd6obe/IPiBH/iBn78g+IEf+IGfPxh6oRd6obc/FDuxEzuxwz8cuZEbuZHLP5IbuZEbudE/llqplVqp1T+amZmZmZnZPw==",
          "dtype": "f8"
         }
        },
        {
         "marker": {
          "size": 12
         },
         "mode": "markers+text",
         "name": "Score 4",
         "text": [
          "Czech Republic",
          "Singapore",
          "Slovenia"
         ],
         "textposition": "top center",
         "type": "scatter",
         "x": [
          4,
          4,
          4
         ],
         "y": {
          "bdata": "mpmZmZmZ2b8AAAAAAAAAAJqZmZmZmdk/",
          "dtype": "f8"
         }
        },
        {
         "marker": {
          "size": 12
         },
         "mode": "markers+text",
         "name": "Score 5",
         "text": [
          "Afghanistan",
          "Albania",
          "Algeria",
          "Andorra",
          "Belgium",
          "France",
          "Hungary",
          "Russia",
          "Slovakia"
         ],
         "textposition": "top center",
         "type": "scatter",
         "x": [
          5,
          5,
          5,
          5,
          5,
          5,
          5,
          5,
          5
         ],
         "y": {
          "bdata": "mpmZmZmZ2b80MzMzMzPTv5qZmZmZmcm/mJmZmZmZub8AAAAAAAAAAJiZmZmZmbk/nJmZmZmZyT80MzMzMzPTP5qZmZmZmdk/",
          "dtype": "f8"
         }
        },
        {
         "marker": {
          "size": 12
         },
         "mode": "markers+text",
         "name": "Score 6",
         "text": [
          "Belarus",
          "Costa Rica",
          "South Africa",
          "Ukraine"
         ],
         "textposition": "top center",
         "type": "scatter",
         "x": [
          6,
          6,
          6,
          6
         ],
         "y": {
          "bdata": "mpmZmZmZ2b8SERERERHBvxAREREREcE/mpmZmZmZ2T8=",
          "dtype": "f8"
         }
        },
        {
         "marker": {
          "size": 12
         },
         "mode": "markers+text",
         "name": "Score 7",
         "text": [
          "Argentina",
          "Bangladesh",
          "Barbados",
          "Bolivia",
          "Brazil",
          "Bulgaria",
          "Chile",
          "Colombia",
          "Côte d'Ivoire",
          "Croatia",
          "Cyprus",
          "Dominican Republic",
          "Ecuador",
          "Egypt",
          "El Salvador",
          "Ethiopia",
          "Ghana",
          "Greece",
          "Guatemala",
          "Honduras",
          "India",
          "Italy",
          "Jamaica",
          "Kenya",
          "Lebanon",
          "Malta",
          "Mexico",
          "Morocco",
          "Nicaragua",
          "Nigeria",
          "Panama",
          "Paraguay",
          "Peru",
          "Philippines",
          "Poland",
          "Portugal",
          "Romania",
          "Rwanda",
          "San Marino",
          "Senegal",
          "Serbia",
          "Spain",
          "Tanzania",
          "Trinidad and Tobago",
          "Turkey",
          "Uganda",
          "Uruguay"
         ],
         "textposition": "top center",
         "type": "scatter",
         "x": [
          7,
          7,
          7,
          7,
          7,
          7,
          7,
          7,
          7,
          7,
          7,
          7,
          7,
          7,
          7,
          7,
          7,
          7,
          7,
          7,
          7,
          7,
          7,
          7,
          7,
          7,
          7,
          7,
          7,
          7,
          7,
          7,
          7,
          7,
          7,
          7,
          7,
          7,
          7,
          7,
          7,
          7,
          7,
          7,
          7,
          7,
          7
         ],
         "y": {
          "bdata": "mpmZmZmZ2b+Icb8uqXzYv3ZJ5cO4X9e/ZCELWchC1r9T+TDu1yXVv0HRVoPnCNS/L6l8GPfr0r8dgaKtBs/RvwxZyEIWstC/82Hcr0sqz7/QESjaavDMv6zBcwSKtsq/iHG/Lql8yL9lIQtZyELGv0HRVoPnCMS/HoGirQbPwb/0YdyvSyq/v6zBcwSKtrq/ZCELWchCtr8ggaKtBs+xv7DBcwSKtqq/IIGirQbPob8ggaKtBs+RvwAAAAAAAAAAIIGirQbPkT8YgaKtBs+hP6jBcwSKtqo/HIGirQbPsT9kIQtZyEK2P6jBcwSKtro/8GHcr0sqvz8cgaKtBs/BP0DRVoPnCMQ/ZCELWchCxj+Icb8uqXzIP6zBcwSKtso/0BEo2mrwzD/0YdyvSyrPPwpZyEIWstA/HIGirQbP0T8uqXwY9+vSP0DRVoPnCNQ/Uvkw7tcl1T9kIQtZyELWP3ZJ5cO4X9c/iHG/Lql82D+amZmZmZnZPw==",
          "dtype": "f8"
         }
        },
        {
         "marker": {
          "size": 12
         },
         "mode": "markers+text",
         "name": "Score 8",
         "text": [
          "Bahrain",
          "China",
          "Indonesia",
          "Iran",
          "Japan",
          "Jordan",
          "Kuwait",
          "Malaysia",
          "Myanmar",
          "Oman",
          "Qatar",
          "Saudi Arabia",
          "South Korea",
          "Thailand",
          "Uzbekistan",
          "Vietnam"
         ],
         "textposition": "top center",
         "type": "scatter",
         "x": [
          8,
          8,
          8,
          8,
          8,
          8,
          8,
          8,
          8,
          8,
          8,
          8,
          8,
          8,
          8,
          8
         ],
         "y": {
          "bdata": "mpmZmZmZ2b8wlvxiyS/Wv8aSXyz5xdK/uR6F61G4zr/lF0t+seTHvxIREREREcG/fBSuR+F6tL9QG+i0gU6bv1Ab6LSBTps/fBSuR+F6tD8QERERERHBP+QXS36x5Mc/uB6F61G4zj/Gkl8s+cXSPzCW/GLJL9Y/mpmZmZmZ2T8=",
          "dtype": "f8"
         }
        }
       ],
       "layout": {
        "height": 1000,
        "margin": {
         "b": 80,
         "l": 80,
         "r": 80,
         "t": 80
        },
        "template": {
         "data": {
          "bar": [
           {
            "error_x": {
             "color": "#2a3f5f"
            },
            "error_y": {
             "color": "#2a3f5f"
            },
            "marker": {
             "line": {
              "color": "#E5ECF6",
              "width": 0.5
             },
             "pattern": {
              "fillmode": "overlay",
              "size": 10,
              "solidity": 0.2
             }
            },
            "type": "bar"
           }
          ],
          "barpolar": [
           {
            "marker": {
             "line": {
              "color": "#E5ECF6",
              "width": 0.5
             },
             "pattern": {
              "fillmode": "overlay",
              "size": 10,
              "solidity": 0.2
             }
            },
            "type": "barpolar"
           }
          ],
          "carpet": [
           {
            "aaxis": {
             "endlinecolor": "#2a3f5f",
             "gridcolor": "white",
             "linecolor": "white",
             "minorgridcolor": "white",
             "startlinecolor": "#2a3f5f"
            },
            "baxis": {
             "endlinecolor": "#2a3f5f",
             "gridcolor": "white",
             "linecolor": "white",
             "minorgridcolor": "white",
             "startlinecolor": "#2a3f5f"
            },
            "type": "carpet"
           }
          ],
          "choropleth": [
           {
            "colorbar": {
             "outlinewidth": 0,
             "ticks": ""
            },
            "type": "choropleth"
           }
          ],
          "contour": [
           {
            "colorbar": {
             "outlinewidth": 0,
             "ticks": ""
            },
            "colorscale": [
             [
              0,
              "#0d0887"
             ],
             [
              0.1111111111111111,
              "#46039f"
             ],
             [
              0.2222222222222222,
              "#7201a8"
             ],
             [
              0.3333333333333333,
              "#9c179e"
             ],
             [
              0.4444444444444444,
              "#bd3786"
             ],
             [
              0.5555555555555556,
              "#d8576b"
             ],
             [
              0.6666666666666666,
              "#ed7953"
             ],
             [
              0.7777777777777778,
              "#fb9f3a"
             ],
             [
              0.8888888888888888,
              "#fdca26"
             ],
             [
              1,
              "#f0f921"
             ]
            ],
            "type": "contour"
           }
          ],
          "contourcarpet": [
           {
            "colorbar": {
             "outlinewidth": 0,
             "ticks": ""
            },
            "type": "contourcarpet"
           }
          ],
          "heatmap": [
           {
            "colorbar": {
             "outlinewidth": 0,
             "ticks": ""
            },
            "colorscale": [
             [
              0,
              "#0d0887"
             ],
             [
              0.1111111111111111,
              "#46039f"
             ],
             [
              0.2222222222222222,
              "#7201a8"
             ],
             [
              0.3333333333333333,
              "#9c179e"
             ],
             [
              0.4444444444444444,
              "#bd3786"
             ],
             [
              0.5555555555555556,
              "#d8576b"
             ],
             [
              0.6666666666666666,
              "#ed7953"
             ],
             [
              0.7777777777777778,
              "#fb9f3a"
             ],
             [
              0.8888888888888888,
              "#fdca26"
             ],
             [
              1,
              "#f0f921"
             ]
            ],
            "type": "heatmap"
           }
          ],
          "histogram": [
           {
            "marker": {
             "pattern": {
              "fillmode": "overlay",
              "size": 10,
              "solidity": 0.2
             }
            },
            "type": "histogram"
           }
          ],
          "histogram2d": [
           {
            "colorbar": {
             "outlinewidth": 0,
             "ticks": ""
            },
            "colorscale": [
             [
              0,
              "#0d0887"
             ],
             [
              0.1111111111111111,
              "#46039f"
             ],
             [
              0.2222222222222222,
              "#7201a8"
             ],
             [
              0.3333333333333333,
              "#9c179e"
             ],
             [
              0.4444444444444444,
              "#bd3786"
             ],
             [
              0.5555555555555556,
              "#d8576b"
             ],
             [
              0.6666666666666666,
              "#ed7953"
             ],
             [
              0.7777777777777778,
              "#fb9f3a"
             ],
             [
              0.8888888888888888,
              "#fdca26"
             ],
             [
              1,
              "#f0f921"
             ]
            ],
            "type": "histogram2d"
           }
          ],
          "histogram2dcontour": [
           {
            "colorbar": {
             "outlinewidth": 0,
             "ticks": ""
            },
            "colorscale": [
             [
              0,
              "#0d0887"
             ],
             [
              0.1111111111111111,
              "#46039f"
             ],
             [
              0.2222222222222222,
              "#7201a8"
             ],
             [
              0.3333333333333333,
              "#9c179e"
             ],
             [
              0.4444444444444444,
              "#bd3786"
             ],
             [
              0.5555555555555556,
              "#d8576b"
             ],
             [
              0.6666666666666666,
              "#ed7953"
             ],
             [
              0.7777777777777778,
              "#fb9f3a"
             ],
             [
              0.8888888888888888,
              "#fdca26"
             ],
             [
              1,
              "#f0f921"
             ]
            ],
            "type": "histogram2dcontour"
           }
          ],
          "mesh3d": [
           {
            "colorbar": {
             "outlinewidth": 0,
             "ticks": ""
            },
            "type": "mesh3d"
           }
          ],
          "parcoords": [
           {
            "line": {
             "colorbar": {
              "outlinewidth": 0,
              "ticks": ""
             }
            },
            "type": "parcoords"
           }
          ],
          "pie": [
           {
            "automargin": true,
            "type": "pie"
           }
          ],
          "scatter": [
           {
            "fillpattern": {
             "fillmode": "overlay",
             "size": 10,
             "solidity": 0.2
            },
            "type": "scatter"
           }
          ],
          "scatter3d": [
           {
            "line": {
             "colorbar": {
              "outlinewidth": 0,
              "ticks": ""
             }
            },
            "marker": {
             "colorbar": {
              "outlinewidth": 0,
              "ticks": ""
             }
            },
            "type": "scatter3d"
           }
          ],
          "scattercarpet": [
           {
            "marker": {
             "colorbar": {
              "outlinewidth": 0,
              "ticks": ""
             }
            },
            "type": "scattercarpet"
           }
          ],
          "scattergeo": [
           {
            "marker": {
             "colorbar": {
              "outlinewidth": 0,
              "ticks": ""
             }
            },
            "type": "scattergeo"
           }
          ],
          "scattergl": [
           {
            "marker": {
             "colorbar": {
              "outlinewidth": 0,
              "ticks": ""
             }
            },
            "type": "scattergl"
           }
          ],
          "scattermap": [
           {
            "marker": {
             "colorbar": {
              "outlinewidth": 0,
              "ticks": ""
             }
            },
            "type": "scattermap"
           }
          ],
          "scattermapbox": [
           {
            "marker": {
             "colorbar": {
              "outlinewidth": 0,
              "ticks": ""
             }
            },
            "type": "scattermapbox"
           }
          ],
          "scatterpolar": [
           {
            "marker": {
             "colorbar": {
              "outlinewidth": 0,
              "ticks": ""
             }
            },
            "type": "scatterpolar"
           }
          ],
          "scatterpolargl": [
           {
            "marker": {
             "colorbar": {
              "outlinewidth": 0,
              "ticks": ""
             }
            },
            "type": "scatterpolargl"
           }
          ],
          "scatterternary": [
           {
            "marker": {
             "colorbar": {
              "outlinewidth": 0,
              "ticks": ""
             }
            },
            "type": "scatterternary"
           }
          ],
          "surface": [
           {
            "colorbar": {
             "outlinewidth": 0,
             "ticks": ""
            },
            "colorscale": [
             [
              0,
              "#0d0887"
             ],
             [
              0.1111111111111111,
              "#46039f"
             ],
             [
              0.2222222222222222,
              "#7201a8"
             ],
             [
              0.3333333333333333,
              "#9c179e"
             ],
             [
              0.4444444444444444,
              "#bd3786"
             ],
             [
              0.5555555555555556,
              "#d8576b"
             ],
             [
              0.6666666666666666,
              "#ed7953"
             ],
             [
              0.7777777777777778,
              "#fb9f3a"
             ],
             [
              0.8888888888888888,
              "#fdca26"
             ],
             [
              1,
              "#f0f921"
             ]
            ],
            "type": "surface"
           }
          ],
          "table": [
           {
            "cells": {
             "fill": {
              "color": "#EBF0F8"
             },
             "line": {
              "color": "white"
             }
            },
            "header": {
             "fill": {
              "color": "#C8D4E3"
             },
             "line": {
              "color": "white"
             }
            },
            "type": "table"
           }
          ]
         },
         "layout": {
          "annotationdefaults": {
           "arrowcolor": "#2a3f5f",
           "arrowhead": 0,
           "arrowwidth": 1
          },
          "autotypenumbers": "strict",
          "coloraxis": {
           "colorbar": {
            "outlinewidth": 0,
            "ticks": ""
           }
          },
          "colorscale": {
           "diverging": [
            [
             0,
             "#8e0152"
            ],
            [
             0.1,
             "#c51b7d"
            ],
            [
             0.2,
             "#de77ae"
            ],
            [
             0.3,
             "#f1b6da"
            ],
            [
             0.4,
             "#fde0ef"
            ],
            [
             0.5,
             "#f7f7f7"
            ],
            [
             0.6,
             "#e6f5d0"
            ],
            [
             0.7,
             "#b8e186"
            ],
            [
             0.8,
             "#7fbc41"
            ],
            [
             0.9,
             "#4d9221"
            ],
            [
             1,
             "#276419"
            ]
           ],
           "sequential": [
            [
             0,
             "#0d0887"
            ],
            [
             0.1111111111111111,
             "#46039f"
            ],
            [
             0.2222222222222222,
             "#7201a8"
            ],
            [
             0.3333333333333333,
             "#9c179e"
            ],
            [
             0.4444444444444444,
             "#bd3786"
            ],
            [
             0.5555555555555556,
             "#d8576b"
            ],
            [
             0.6666666666666666,
             "#ed7953"
            ],
            [
             0.7777777777777778,
             "#fb9f3a"
            ],
            [
             0.8888888888888888,
             "#fdca26"
            ],
            [
             1,
             "#f0f921"
            ]
           ],
           "sequentialminus": [
            [
             0,
             "#0d0887"
            ],
            [
             0.1111111111111111,
             "#46039f"
            ],
            [
             0.2222222222222222,
             "#7201a8"
            ],
            [
             0.3333333333333333,
             "#9c179e"
            ],
            [
             0.4444444444444444,
             "#bd3786"
            ],
            [
             0.5555555555555556,
             "#d8576b"
            ],
            [
             0.6666666666666666,
             "#ed7953"
            ],
            [
             0.7777777777777778,
             "#fb9f3a"
            ],
            [
             0.8888888888888888,
             "#fdca26"
            ],
            [
             1,
             "#f0f921"
            ]
           ]
          },
          "colorway": [
           "#636efa",
           "#EF553B",
           "#00cc96",
           "#ab63fa",
           "#FFA15A",
           "#19d3f3",
           "#FF6692",
           "#B6E880",
           "#FF97FF",
           "#FECB52"
          ],
          "font": {
           "color": "#2a3f5f"
          },
          "geo": {
           "bgcolor": "white",
           "lakecolor": "white",
           "landcolor": "#E5ECF6",
           "showlakes": true,
           "showland": true,
           "subunitcolor": "white"
          },
          "hoverlabel": {
           "align": "left"
          },
          "hovermode": "closest",
          "mapbox": {
           "style": "light"
          },
          "paper_bgcolor": "white",
          "plot_bgcolor": "#E5ECF6",
          "polar": {
           "angularaxis": {
            "gridcolor": "white",
            "linecolor": "white",
            "ticks": ""
           },
           "bgcolor": "#E5ECF6",
           "radialaxis": {
            "gridcolor": "white",
            "linecolor": "white",
            "ticks": ""
           }
          },
          "scene": {
           "xaxis": {
            "backgroundcolor": "#E5ECF6",
            "gridcolor": "white",
            "gridwidth": 2,
            "linecolor": "white",
            "showbackground": true,
            "ticks": "",
            "zerolinecolor": "white"
           },
           "yaxis": {
            "backgroundcolor": "#E5ECF6",
            "gridcolor": "white",
            "gridwidth": 2,
            "linecolor": "white",
            "showbackground": true,
            "ticks": "",
            "zerolinecolor": "white"
           },
           "zaxis": {
            "backgroundcolor": "#E5ECF6",
            "gridcolor": "white",
            "gridwidth": 2,
            "linecolor": "white",
            "showbackground": true,
            "ticks": "",
            "zerolinecolor": "white"
           }
          },
          "shapedefaults": {
           "line": {
            "color": "#2a3f5f"
           }
          },
          "ternary": {
           "aaxis": {
            "gridcolor": "white",
            "linecolor": "white",
            "ticks": ""
           },
           "baxis": {
            "gridcolor": "white",
            "linecolor": "white",
            "ticks": ""
           },
           "bgcolor": "#E5ECF6",
           "caxis": {
            "gridcolor": "white",
            "linecolor": "white",
            "ticks": ""
           }
          },
          "title": {
           "x": 0.05
          },
          "xaxis": {
           "automargin": true,
           "gridcolor": "white",
           "linecolor": "white",
           "ticks": "",
           "title": {
            "standoff": 15
           },
           "zerolinecolor": "white",
           "zerolinewidth": 2
          },
          "yaxis": {
           "automargin": true,
           "gridcolor": "white",
           "linecolor": "white",
           "ticks": "",
           "title": {
            "standoff": 15
           },
           "zerolinecolor": "white",
           "zerolinewidth": 2
          }
         }
        },
        "title": {
         "text": "Countries Grouped by Evaluation Score"
        },
        "width": 1500,
        "xaxis": {
         "range": [
          0.5,
          10.5
         ],
         "tickmode": "array",
         "ticktext": [
          "Extremely Candid / Unfiltered",
          "Very Blunt",
          "Blunt",
          "Forthright",
          "Balanced / Honest",
          "Tactful",
          "Diplomatic",
          "Subtle",
          "Indirect",
          "Extremely Indirect / Highly Sugarcoated"
         ],
         "tickvals": [
          1,
          2,
          3,
          4,
          5,
          6,
          7,
          8,
          9,
          10
         ],
         "title": {
          "text": "Evaluation Style"
         }
        },
        "yaxis": {
         "showticklabels": false,
         "title": {
          "text": "Countries"
         }
        }
       }
      }
     },
     "metadata": {},
     "output_type": "display_data"
    }
   ],
   "source": [
    "import pandas as pd\n",
    "import numpy as np\n",
    "import plotly.express as px\n",
    "import plotly.graph_objects as go\n",
    "\n",
    "#Upload data frame of dimensions\n",
    "df_country = pd.read_excel(\"culture_map.xlsx\", sheet_name = \"countries\")\n",
    "df_dimensions = pd.read_excel(\"culture_map.xlsx\", sheet_name = \"dimensions\")\n",
    "\n",
    "#Evaluation\n",
    "# --- 1) LOAD THE SCORE-DESCRIPTION MAPPINGS ---\n",
    "# Create a dictionary like {1: 'Extremely Direct / Explicit', 2: 'Very Direct', ...}\n",
    "score_to_text = dict(zip(df_dimensions[\"Score\"], df_dimensions[\"Evaluation\"]))\n",
    "\n",
    "# Assuming the Excel file has columns named \"Country\" and \"Evaluation\"\n",
    "# Group countries by their Evaluation score\n",
    "scores = sorted(df_country['Evaluation'].unique())\n",
    "\n",
    "fig = go.Figure()\n",
    "\n",
    "# For clarity, we add jitter on the y-axis so markers in the same cluster don’t overlap.\n",
    "# Here we generate a small range of y-values for each country in a group.\n",
    "for score in scores:\n",
    "    cluster = df_country[df_country['Evaluation'] == score]\n",
    "    # Create jitter values; the more points, the more spread out they will be.\n",
    "    jitter = np.linspace(-0.4, 0.4, len(cluster))\n",
    "    \n",
    "    fig.add_trace(go.Scatter(\n",
    "        x=[score] * len(cluster),\n",
    "        y=jitter,\n",
    "        mode='markers+text',\n",
    "        marker=dict(size=12),\n",
    "        text=cluster['Country'],      # Display country names on hover (or as labels)\n",
    "        textposition='top center',\n",
    "        name=f\"Score {score}\"\n",
    "    ))\n",
    "\n",
    "# --- 4) CONFIGURE THE X-AXIS TO SHOW TEXT INSTEAD OF NUMBERS ---\n",
    "fig.update_layout(\n",
    "    title=\"Countries Grouped by Evaluation Score\",\n",
    "    xaxis=dict(\n",
    "        title=\"Evaluation Style\",\n",
    "        tickmode='array',\n",
    "        # 'tickvals' are the numeric positions\n",
    "        tickvals=list(score_to_text.keys()),  \n",
    "        # 'ticktext' are the labels we want to display\n",
    "        ticktext=list(score_to_text.values()),\n",
    "        # If you want to ensure we see all ticks from 1 to 10, you can do:\n",
    "        range=[0.5, 10.5]  # This centers ticks from 1..10\n",
    "    ),\n",
    "    yaxis=dict(\n",
    "        title=\"Countries\",\n",
    "        showticklabels=False  # Hides y-axis labels, since we only use it for jitter\n",
    "    ),\n",
    "    margin=dict(l=80, r=80, t=80, b=80)\n",
    ")\n",
    "fig.update_layout(\n",
    "    width=1500,    # Increase width\n",
    "    height=1000,    # Increase height\n",
    "    margin=dict(l=80, r=80, t=80, b=80),\n",
    "    title=\"Countries Grouped by Evaluation Score\",\n",
    "    xaxis=dict(\n",
    "        title=\"Evaluation Style\",\n",
    "        tickmode='array',\n",
    "        tickvals=list(score_to_text.keys()),\n",
    "        ticktext=list(score_to_text.values()),\n",
    "        range=[0.5, 10.5]\n",
    "    ),\n",
    "    yaxis=dict(\n",
    "        title=\"Countries\",\n",
    "        showticklabels=False\n",
    "    )\n",
    ")\n",
    "fig.show()"
   ]
  },
  {
   "cell_type": "code",
   "execution_count": null,
   "metadata": {},
   "outputs": [],
   "source": []
  }
 ],
 "metadata": {
  "kernelspec": {
   "display_name": "venv",
   "language": "python",
   "name": "python3"
  },
  "language_info": {
   "codemirror_mode": {
    "name": "ipython",
    "version": 3
   },
   "file_extension": ".py",
   "mimetype": "text/x-python",
   "name": "python",
   "nbconvert_exporter": "python",
   "pygments_lexer": "ipython3",
   "version": "3.13.2"
  }
 },
 "nbformat": 4,
 "nbformat_minor": 2
}
